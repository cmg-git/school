{
 "cells": [
  {
   "cell_type": "markdown",
   "id": "7fe26d5c-1c5c-4127-a763-5126881bc2e7",
   "metadata": {},
   "source": [
    "# Vertex form of the second order equation\n"
   ]
  },
  {
   "cell_type": "markdown",
   "id": "0c35dbfa-2a37-4ce8-8ecf-b01dff8569e9",
   "metadata": {},
   "source": [
    "__Prompt CgatGPT:__ Write the second oder function $a x^2 + b x + c$ as $a (x - \\alpha)^2 + \\beta$. Explain by completing the square."
   ]
  },
  {
   "cell_type": "markdown",
   "id": "000bb206-9f72-42b6-a8d0-e5b8208153d3",
   "metadata": {},
   "source": [
    "## Complete the square\n",
    "\n",
    "To express the quadratic function $a x^2 + b x + c$ in the form $a \\cdot (x - \\alpha)^2 + \\beta$, we can complete the square. Here are the steps to do that:\n",
    "\n",
    "1. Start with the quadratic function $a \\cdot x^2 + b \\cdot x + c$.\n",
    "\n",
    "2. Factor out the leading coefficient $a$ from the $x^2$ and $x$ terms:\n",
    "\n",
    "\n",
    "3. To complete the square, we need to add and subtract a specific value inside the parentheses. Take half of the coefficient of the $x$ term ($\\frac{b}{a}$) and square it. This value is $\\left(\\frac{b}{2a}\\right)^2$.\n",
    "\n",
    "4. Add and subtract $\\left(\\frac{b}{2a}\\right)^2$ inside the parentheses:\n",
    "\n",
    "5. Now, we can rewrite the expression inside the parentheses as a perfect square:\n",
    "\n",
    "\n",
    "6. The expression inside the parentheses is now a perfect square. We can rewrite it as $(x + \\frac{b}{2a})^2$:\n",
    "\n",
    "7. Simplify the terms: Now, the quadratic function $a \\cdot x^2 + b \\cdot x + c$ is expressed in the form $a \\cdot (x - \\alpha)^2 + \\beta$, where $\\alpha = -\\frac{b}{2a}$ and $\\beta = c - \\frac{b^2}{4a}$.\n",
    "\n",
    "So, the final expression in the desired form is:\n",
    "$$a (x - \\alpha)^2 + \\beta$$ \n",
    "where:\n",
    "\n",
    "* $\\alpha = -\\frac{b}{2a}$ \n",
    "\n",
    "* $\\beta = - \\frac{b^2}{4a} + c = -\\frac{\\Delta}{4a}$, \n",
    "\n",
    "with $\\Delta = b^2 - 4ac$."
   ]
  },
  {
   "cell_type": "markdown",
   "id": "4bbe9f3d-f729-42df-88e2-6fea776eb52d",
   "metadata": {},
   "source": [
    "The form $a \\cdot (x - \\alpha)^2 + \\beta$ of a second-order equation is known as the **vertex form** of a quadratic equation. In this form, \\(\\alpha\\) represents the x-coordinate of the vertex of the parabola, \\(\\beta\\) represents the y-coordinate of the vertex, and \\(a\\) determines the direction and width of the parabola.\n",
    "\n",
    "The vertex form is particularly useful for quickly identifying key characteristics of the quadratic function, such as the vertex and the direction it opens (upward or downward)."
   ]
  },
  {
   "cell_type": "markdown",
   "id": "4a6b9607-00af-4eed-8a9c-ea2a03a4f657",
   "metadata": {},
   "source": [
    "## Expanding and identifying the coefficients\n",
    "\n",
    "__Prompt ChatGPT__: Write the second oder function $a x^2 + b x + c$ as $a (x - \\alpha)^2 + \\beta$. Explain by identifying the coefficients, i.e. by developing  $a (x - \\alpha)^2 + \\beta$ and the seeing which is the coefficient of x^^, x, and the free term."
   ]
  },
  {
   "cell_type": "markdown",
   "id": "0d8d789f-0ad3-4875-9b41-4aaac6bcd1ac",
   "metadata": {},
   "source": [
    "To write the second-order function $ax^2 + bx + c$ in the form $a(x - \\alpha)^2 + \\beta,$ we'll start by expanding $a(x - \\alpha)^2 + \\beta.$ Then, we'll compare the coefficients to identify $\\alpha$ and $\\beta$.\n",
    "\n",
    "The expanded form is:\n",
    "\n",
    "$$a(x - \\alpha)^2 + \\beta = a(x^2 - 2\\alpha x + \\alpha^2) + \\beta = ax^2 - 2a\\alpha x + a\\alpha^2 + \\beta$$\n",
    "\n",
    "Now, let's compare the coefficients of the resulting polynomial with the original $ax^2 + bx + c:$\n",
    "\n",
    "1. The coefficient of $x^2$ in $ax^2 + bx + c$ is $a$.\n",
    "2. The coefficient of \\(x\\) in $ax^2 + bx + c$ is $b$.\n",
    "3. The free term (constant) in $ax^2 + bx + c$ is $c$.\n",
    "\n",
    "Now, compare these coefficients to our expanded form:\n",
    "\n",
    "1. The coefficient of $x^2$ in $ax^2 - 2a\\alpha x + a\\alpha^2 + \\beta$ is also $a$.\n",
    "2. The coefficient of $x$ in $ax^2 - 2a\\alpha x + a\\alpha^2 + \\beta$ is $-2a\\alpha.$\n",
    "3. The free term (constant) in $ax^2 - 2a\\alpha x + a\\alpha^2 + \\beta$ is $a\\alpha^2 + \\beta.$\n",
    "\n",
    "To make the two expressions equivalent, we can equate the coefficients:\n",
    "\n",
    "1. $a = a$ (already the same).\n",
    "2. $-2a\\alpha = b$\n",
    "3. $a\\alpha^2 + \\beta = c$\n",
    "\n",
    "Now, solve these equations for $\\alpha$ and $\\beta:$\n",
    "\n",
    "From equation 2: $-2a\\alpha = b$, we can isolate $\\alpha$:\n",
    "\n",
    "$$\\alpha = -\\frac{b}{2a}$$\n",
    "\n",
    "Now, from equation 3: $$a\\alpha^2 + \\beta = c,$$ we can substitute the value of $\\alpha:$\n",
    "\n",
    "$$a\\left(-\\frac{b}{2a}\\right)^2 + \\beta = c$$\n",
    "\n",
    "$$a\\left(\\frac{b^2}{4a^2}\\right) + \\beta = c$$\n",
    "\n",
    "$$\\frac{b^2}{4a} + \\beta = c$$\n",
    "\n",
    "To isolate $\\beta$, subtract $\\frac{b^2}{4a}$ from both sides:\n",
    "\n",
    "$$\\beta = c - \\frac{b^2}{4a}$$\n",
    "\n",
    "So, the coefficients $\\alpha$ and $\\beta$ are given by:\n",
    "\n",
    "$$\\alpha = -\\frac{b}{2a}$$\n",
    "\n",
    "$$\\beta = - \\frac{b^2}{4a} + c = -\\frac{\\Delta}{4a}$$, \n",
    "\n",
    "with $\\Delta = b^2 - 4ac$."
   ]
  },
  {
   "cell_type": "code",
   "execution_count": null,
   "id": "0f65ae7f-0607-4dc5-9c94-d19ae3ad2e7e",
   "metadata": {},
   "outputs": [],
   "source": []
  }
 ],
 "metadata": {
  "kernelspec": {
   "display_name": "Python 3 (ipykernel)",
   "language": "python",
   "name": "python3"
  },
  "language_info": {
   "codemirror_mode": {
    "name": "ipython",
    "version": 3
   },
   "file_extension": ".py",
   "mimetype": "text/x-python",
   "name": "python",
   "nbconvert_exporter": "python",
   "pygments_lexer": "ipython3",
   "version": "3.9.7"
  }
 },
 "nbformat": 4,
 "nbformat_minor": 5
}
