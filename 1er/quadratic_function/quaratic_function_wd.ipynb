{
 "cells": [
  {
   "cell_type": "markdown",
   "id": "63d195dd-def7-405f-ac2e-a998f0d90a1e",
   "metadata": {},
   "source": [
    "# Quadratic equation\n",
    "\n",
    "[![Binder](https://mybinder.org/badge_logo.svg)](https://mybinder.org/v2/gh/cmg-git/school/HEAD?urlpath=https%3A%2F%2Fgithub.com%2Fcmg-git%2Fschool%2Fblob%2Fmain%2F1er%2Fquaratic_function_wd.ipynb)\n",
    "\n",
    "Interactive representation of the quadratic equation:\n",
    "\n",
    "- $f(x) = a x^2 + b x + c$ standard form \n",
    "- $f(x) = a(x - \\alpha)^2 + \\beta$ vertex form"
   ]
  },
  {
   "cell_type": "code",
   "execution_count": 1,
   "id": "8d68b2c5-30ac-446c-83db-f5da2911e959",
   "metadata": {},
   "outputs": [],
   "source": [
    "import matplotlib.pyplot as plt\n",
    "import numpy as np\n",
    "import ipywidgets as widgets"
   ]
  },
  {
   "cell_type": "markdown",
   "id": "ac5ee06a-b89d-4470-aed1-a866eb1f15f7",
   "metadata": {},
   "source": [
    "Quadratic equation:\n",
    "\n",
    "$$f(x) = a x^2 + b x + c$$"
   ]
  },
  {
   "cell_type": "code",
   "execution_count": 2,
   "id": "589a049e-bf43-45d4-94db-928714b47e2b",
   "metadata": {},
   "outputs": [
    {
     "data": {
      "application/vnd.jupyter.widget-view+json": {
       "model_id": "49d6921e3de74c389ab8ce0867ca8c05",
       "version_major": 2,
       "version_minor": 0
      },
      "text/plain": [
       "interactive(children=(IntSlider(value=0, description='a', max=5, min=-5), IntSlider(value=0, description='b', …"
      ]
     },
     "metadata": {},
     "output_type": "display_data"
    }
   ],
   "source": [
    "def quadratic_wd(a, b, c):\n",
    "    x = np.linspace(-10, 10, 100)\n",
    "    y = a * x**2 + b * x + c\n",
    "\n",
    "    fig, ax = plt.subplots()\n",
    "    ax.plot(x, y)\n",
    "    ax.grid(True, which='both')\n",
    "    ax.axhline(y=0, color='k')\n",
    "    ax.set_ylim([-400, 400])\n",
    "    ax.set(xlabel='x',\n",
    "           ylabel='y')\n",
    "    plt.show()\n",
    "\n",
    "widgets.interact(quadratic_wd, a=(-5, 5), b=(-50, 50), c=(-50, 50));"
   ]
  },
  {
   "cell_type": "markdown",
   "id": "767775ec-a569-4065-87dc-3ff604e6ca5c",
   "metadata": {},
   "source": [
    "Quadratic equation:\n",
    "$$f(x) = a(x - \\alpha)^2 + \\beta$$"
   ]
  },
  {
   "cell_type": "code",
   "execution_count": 3,
   "id": "d0372239-38b0-42a2-b16a-4208fbd4abc2",
   "metadata": {},
   "outputs": [
    {
     "data": {
      "application/vnd.jupyter.widget-view+json": {
       "model_id": "ece08fc3b1f343d5a2c34cd714db3b37",
       "version_major": 2,
       "version_minor": 0
      },
      "text/plain": [
       "interactive(children=(IntSlider(value=0, description='a', max=5, min=-5), IntSlider(value=0, description='α', …"
      ]
     },
     "metadata": {},
     "output_type": "display_data"
    }
   ],
   "source": [
    "def quadratic_wd(a, 𝛼, 𝜷):\n",
    "    x = np.linspace(-10, 10, 100)\n",
    "    y = a * (x - 𝛼)**2 + 𝜷\n",
    "\n",
    "    fig, ax = plt.subplots()\n",
    "    ax.plot(x, y)\n",
    "    ax.grid(True, which='both')\n",
    "    ax.axhline(y=0, color='k')\n",
    "    ax.set_ylim([-400, 400])\n",
    "    ax.set(xlabel='x',\n",
    "           ylabel='y')\n",
    "    plt.show()\n",
    "\n",
    "widgets.interact(quadratic_wd, a=(-5, 5), 𝛼=(-5, 5), 𝜷=(-50, 50));"
   ]
  },
  {
   "cell_type": "code",
   "execution_count": null,
   "id": "82f3aced-af68-4f41-80ae-34344b8fcd20",
   "metadata": {},
   "outputs": [],
   "source": []
  }
 ],
 "metadata": {
  "kernelspec": {
   "display_name": "Python 3 (ipykernel)",
   "language": "python",
   "name": "python3"
  },
  "language_info": {
   "codemirror_mode": {
    "name": "ipython",
    "version": 3
   },
   "file_extension": ".py",
   "mimetype": "text/x-python",
   "name": "python",
   "nbconvert_exporter": "python",
   "pygments_lexer": "ipython3",
   "version": "3.9.7"
  }
 },
 "nbformat": 4,
 "nbformat_minor": 5
}
