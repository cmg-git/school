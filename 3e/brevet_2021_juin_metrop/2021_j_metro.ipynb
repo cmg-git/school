{
 "cells": [
  {
   "cell_type": "markdown",
   "id": "291f3b94-b7f8-4435-aa76-4ab2722cd197",
   "metadata": {},
   "source": [
    "# DNB – Métropole – Juin 2021"
   ]
  },
  {
   "cell_type": "markdown",
   "id": "b895f9c1-ca80-4564-b695-4fbec215b42b",
   "metadata": {},
   "source": [
    "[sujet](https://www.annales2maths.com/solution-dnb-metropole-juin-2021/)"
   ]
  },
  {
   "cell_type": "markdown",
   "id": "0f491e49-74ae-4c95-99a1-0e6c8be7574f",
   "metadata": {},
   "source": [
    "## Exercice 1 (20 p)"
   ]
  },
  {
   "cell_type": "code",
   "execution_count": 1,
   "id": "52b5b7e3-ab8f-40de-9080-d32b71b6f805",
   "metadata": {},
   "outputs": [],
   "source": [
    "import numpy as np\n",
    "import pandas as pd"
   ]
  },
  {
   "cell_type": "markdown",
   "id": "aec3e1c9-d6c9-4f89-bdeb-98acc4c7b9d8",
   "metadata": {},
   "source": [
    "Les températures moyennes mensuelles à Tours en 2019 :"
   ]
  },
  {
   "cell_type": "code",
   "execution_count": 2,
   "id": "f066e0cf-4d9f-468f-a1c7-c510ca34963b",
   "metadata": {},
   "outputs": [
    {
     "data": {
      "text/html": [
       "<div>\n",
       "<style scoped>\n",
       "    .dataframe tbody tr th:only-of-type {\n",
       "        vertical-align: middle;\n",
       "    }\n",
       "\n",
       "    .dataframe tbody tr th {\n",
       "        vertical-align: top;\n",
       "    }\n",
       "\n",
       "    .dataframe thead th {\n",
       "        text-align: right;\n",
       "    }\n",
       "</style>\n",
       "<table border=\"1\" class=\"dataframe\">\n",
       "  <thead>\n",
       "    <tr style=\"text-align: right;\">\n",
       "      <th></th>\n",
       "      <th>Mois</th>\n",
       "      <th>Temp °C</th>\n",
       "    </tr>\n",
       "  </thead>\n",
       "  <tbody>\n",
       "    <tr>\n",
       "      <th>0</th>\n",
       "      <td>J</td>\n",
       "      <td>4.4</td>\n",
       "    </tr>\n",
       "    <tr>\n",
       "      <th>1</th>\n",
       "      <td>F</td>\n",
       "      <td>7.8</td>\n",
       "    </tr>\n",
       "    <tr>\n",
       "      <th>2</th>\n",
       "      <td>M</td>\n",
       "      <td>9.6</td>\n",
       "    </tr>\n",
       "    <tr>\n",
       "      <th>3</th>\n",
       "      <td>A</td>\n",
       "      <td>11.2</td>\n",
       "    </tr>\n",
       "    <tr>\n",
       "      <th>4</th>\n",
       "      <td>M</td>\n",
       "      <td>13.4</td>\n",
       "    </tr>\n",
       "    <tr>\n",
       "      <th>5</th>\n",
       "      <td>J</td>\n",
       "      <td>19.4</td>\n",
       "    </tr>\n",
       "    <tr>\n",
       "      <th>6</th>\n",
       "      <td>J</td>\n",
       "      <td>22.6</td>\n",
       "    </tr>\n",
       "    <tr>\n",
       "      <th>7</th>\n",
       "      <td>A</td>\n",
       "      <td>20.5</td>\n",
       "    </tr>\n",
       "    <tr>\n",
       "      <th>8</th>\n",
       "      <td>S</td>\n",
       "      <td>17.9</td>\n",
       "    </tr>\n",
       "    <tr>\n",
       "      <th>9</th>\n",
       "      <td>O</td>\n",
       "      <td>14.4</td>\n",
       "    </tr>\n",
       "    <tr>\n",
       "      <th>10</th>\n",
       "      <td>N</td>\n",
       "      <td>8.2</td>\n",
       "    </tr>\n",
       "    <tr>\n",
       "      <th>11</th>\n",
       "      <td>D</td>\n",
       "      <td>7.8</td>\n",
       "    </tr>\n",
       "  </tbody>\n",
       "</table>\n",
       "</div>"
      ],
      "text/plain": [
       "   Mois  Temp °C\n",
       "0     J      4.4\n",
       "1     F      7.8\n",
       "2     M      9.6\n",
       "3     A     11.2\n",
       "4     M     13.4\n",
       "5     J     19.4\n",
       "6     J     22.6\n",
       "7     A     20.5\n",
       "8     S     17.9\n",
       "9     O     14.4\n",
       "10    N      8.2\n",
       "11    D      7.8"
      ]
     },
     "execution_count": 2,
     "metadata": {},
     "output_type": "execute_result"
    }
   ],
   "source": [
    "temp_Tours = {'Mois': ['J', 'F', 'M', 'A', 'M', 'J', 'J', 'A', 'S', 'O', 'N', 'D'],\n",
    "              'Temp °C': [4.4, 7.8, 9.6, 11.2, 13.4, 19.4, 22.6, 20.5, 17.9, 14.4, 8.2, 7.8]}\n",
    "df = pd.DataFrame(temp_Tours)\n",
    "df"
   ]
  },
  {
   "cell_type": "markdown",
   "id": "07f43b09-9c4d-4236-88ed-30087659a228",
   "metadata": {},
   "source": [
    "La température moyenne à Tours en novembre 2019 :"
   ]
  },
  {
   "cell_type": "code",
   "execution_count": 3,
   "id": "be52172b-ee8d-41d1-8a8b-6aad1ab44b39",
   "metadata": {},
   "outputs": [
    {
     "data": {
      "text/plain": [
       "Mois         N\n",
       "Temp °C    8.2\n",
       "Name: 10, dtype: object"
      ]
     },
     "execution_count": 3,
     "metadata": {},
     "output_type": "execute_result"
    }
   ],
   "source": [
    "df.loc[10]"
   ]
  },
  {
   "cell_type": "code",
   "execution_count": 4,
   "id": "c2cfde38-381b-4c63-a668-cff17e7bc927",
   "metadata": {},
   "outputs": [
    {
     "name": "stdout",
     "output_type": "stream",
     "text": [
      "Etendue : 18.20 °C\n"
     ]
    }
   ],
   "source": [
    "etendue = df['Temp °C'].max() - df['Temp °C'].min()\n",
    "print(f'Etendue : {etendue:.2f} °C')"
   ]
  },
  {
   "cell_type": "code",
   "execution_count": 5,
   "id": "658961ef-73e9-4436-9dfb-7c3528b99bd6",
   "metadata": {},
   "outputs": [
    {
     "name": "stdout",
     "output_type": "stream",
     "text": [
      "Moyenne : 13.10 °C\n"
     ]
    }
   ],
   "source": [
    "print(f\"Moyenne : {df['Temp °C'].mean():.2f} °C\")"
   ]
  },
  {
   "cell_type": "markdown",
   "id": "26980314-9239-46c6-8ce0-93083bb9cc6d",
   "metadata": {},
   "source": [
    "La température moyenne annuelle à Tours en 2009 était de 11,9 °C.\n",
    "Le pourcentage d’augmentation entre 2009 et 2019, arrondi à l’unité, est-il de : 7% ; 10% ou 13% ?\n",
    "Justifier la réponse."
   ]
  },
  {
   "cell_type": "code",
   "execution_count": 6,
   "id": "d0f1d8b4-dcf5-46f8-95a4-8618bda2404c",
   "metadata": {},
   "outputs": [
    {
     "name": "stdout",
     "output_type": "stream",
     "text": [
      "L'augmentation est de 10 %\n"
     ]
    }
   ],
   "source": [
    "moyenne_2009 = 11.9\n",
    "moyenne_2019 = df['Temp °C'].mean()\n",
    "augmentation = (moyenne_2019 - moyenne_2009) / moyenne_2009\n",
    "print(f\"L'augmentation est de {augmentation * 100:.0f} %\")"
   ]
  },
  {
   "cell_type": "code",
   "execution_count": 7,
   "id": "39d49250-bb29-460e-b77c-1592fc438b29",
   "metadata": {},
   "outputs": [
    {
     "name": "stdout",
     "output_type": "stream",
     "text": [
      "L'augmentation est de 9 %\n"
     ]
    }
   ],
   "source": [
    "moyenne_2009 = 11.9\n",
    "moyenne_2019 = df['Temp °C'].mean()\n",
    "augmentation = (moyenne_2019 - moyenne_2009) / moyenne_2019\n",
    "print(f\"L'augmentation est de {augmentation * 100:.0f} %\")"
   ]
  },
  {
   "cell_type": "markdown",
   "id": "8beaabb7-1e6e-4c3c-87e3-f6829832860b",
   "metadata": {},
   "source": [
    "## Exercice 2 (20 points)\n",
    "\n",
    "Le Futuroscope est un parc de loisirs situé dans la Vienne. L’année 2019 a enregistré 1,9 million de visiteurs."
   ]
  },
  {
   "cell_type": "markdown",
   "id": "8edb78f1-bf36-41e9-8771-b73ffa09076a",
   "metadata": {},
   "source": [
    "1. Combien aurait-il fallu de visiteurs en plus en 2019 pour atteindre 2 millions de visiteurs ?"
   ]
  },
  {
   "cell_type": "code",
   "execution_count": 8,
   "id": "8da5c5d7-b32b-48be-b3f8-ebb5368c673c",
   "metadata": {},
   "outputs": [
    {
     "data": {
      "text/plain": [
       "100000.0"
      ]
     },
     "execution_count": 8,
     "metadata": {},
     "output_type": "execute_result"
    }
   ],
   "source": [
    "visit_2019 = 1.9e6\n",
    "visit_pour2mil = 2e6 - visit_2019\n",
    "visit_pour2mil"
   ]
  },
  {
   "cell_type": "markdown",
   "id": "2cd9fdca-4d9b-4d52-b0b2-36c43bc0641b",
   "metadata": {},
   "source": [
    "2. L’affirmation « Il y a eu environ 5200 visiteurs par jour en 2019 » est-elle vraie ? Justifier la réponse."
   ]
  },
  {
   "cell_type": "code",
   "execution_count": 9,
   "id": "bc722d1c-aadf-4fa6-a84d-3d84684c7739",
   "metadata": {},
   "outputs": [
    {
     "name": "stdout",
     "output_type": "stream",
     "text": [
      "Erreure : -0.11 %\n"
     ]
    }
   ],
   "source": [
    "print(f\"Erreure : {(5200 * 365 - visit_2019) / visit_2019 * 100:.2f} %\")"
   ]
  },
  {
   "cell_type": "markdown",
   "id": "b1958d55-0c17-4e6c-8c45-fd38de89cbc8",
   "metadata": {},
   "source": [
    "3. Un professeur organise une sortie pédagogique au Futuroscope pour ses élèves de troisième.\n",
    "Il veut répartir les 126 garçons et les 90 filles par groupes. Il souhaite que chaque groupe comporte le même nombre de filles et le même nombre de garçons.\n",
    "\n",
    "a. Décomposer en produit de facteurs premiers les nombres 126 et 90."
   ]
  },
  {
   "cell_type": "code",
   "execution_count": 10,
   "id": "1e4a46f8-d7a3-4a96-9f4e-530ed000c7d3",
   "metadata": {},
   "outputs": [],
   "source": [
    "def prime_factors(n):\n",
    "    i = 2\n",
    "    factors = []\n",
    "    while i * i <= n:\n",
    "        if n % i:\n",
    "            i += 1\n",
    "        else:\n",
    "            n //= i\n",
    "            factors.append(i)\n",
    "    if n > 1:\n",
    "        factors.append(n)\n",
    "    return factors"
   ]
  },
  {
   "cell_type": "code",
   "execution_count": 11,
   "id": "f02fc497-a4fa-4fd6-ae88-3cd93186b75c",
   "metadata": {},
   "outputs": [
    {
     "data": {
      "text/plain": [
       "[[2, 3, 3, 7], [2, 3, 3, 5]]"
      ]
     },
     "execution_count": 11,
     "metadata": {},
     "output_type": "execute_result"
    }
   ],
   "source": [
    "[prime_factors(126), prime_factors(90)]"
   ]
  },
  {
   "cell_type": "code",
   "execution_count": 16,
   "id": "6f71cfdf-539c-4e6a-8f80-0a6d200ccdac",
   "metadata": {},
   "outputs": [
    {
     "name": "stdout",
     "output_type": "stream",
     "text": [
      "Facteurs primes de 120 : [2 3 3 7]\n",
      "Facteurs primes de 90 : [2 3 3 5]\n"
     ]
    }
   ],
   "source": [
    "factors_120 = np.array(prime_factors(126))\n",
    "factors_90 = np.array(prime_factors(90))\n",
    "print(f\"Facteurs primes de 120 : {factors_120}\")\n",
    "print(f\"Facteurs primes de 90 : {factors_90}\")"
   ]
  },
  {
   "cell_type": "code",
   "execution_count": null,
   "id": "c00224a2-0fbe-43e6-b1c9-7acb73ae12ac",
   "metadata": {},
   "outputs": [],
   "source": []
  }
 ],
 "metadata": {
  "kernelspec": {
   "display_name": "Python 3",
   "language": "python",
   "name": "python3"
  },
  "language_info": {
   "codemirror_mode": {
    "name": "ipython",
    "version": 3
   },
   "file_extension": ".py",
   "mimetype": "text/x-python",
   "name": "python",
   "nbconvert_exporter": "python",
   "pygments_lexer": "ipython3",
   "version": "3.8.8"
  }
 },
 "nbformat": 4,
 "nbformat_minor": 5
}
