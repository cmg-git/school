{
 "cells": [
  {
   "cell_type": "markdown",
   "metadata": {},
   "source": [
    "Sujet 9 France metropolitaine 2019 [lien](https://www.annabac.com/annales-bac/sujet-du-brevet-de-france-metropolitaine-2019?classe=44037&matiere=44038&theme=50491)"
   ]
  },
  {
   "cell_type": "markdown",
   "metadata": {},
   "source": [
    "Le capitaine d’un navire possède un trésor constitué de 69 diamants, 1 150 perles et 4 140 pièces d’or.\n",
    "\n",
    "Combien y a-t-il de marins sachant que toutes les pièces, perles et diamants ont été distribués ?"
   ]
  },
  {
   "cell_type": "code",
   "execution_count": 18,
   "metadata": {},
   "outputs": [
    {
     "name": "stdout",
     "output_type": "stream",
     "text": [
      "Le plus grand diviseur commun : 25\n"
     ]
    }
   ],
   "source": [
    "import numpy as np\n",
    "print('Le plus grand diviseur commun :', np.gcd.reduce([25, 50, 100]))"
   ]
  },
  {
   "cell_type": "code",
   "execution_count": null,
   "metadata": {},
   "outputs": [],
   "source": []
  },
  {
   "cell_type": "code",
   "execution_count": 2,
   "metadata": {},
   "outputs": [],
   "source": [
    "def prime_factors(n):\n",
    "    i = 2\n",
    "    factors = []\n",
    "    while i * i <= n:\n",
    "        if n % i:\n",
    "            i += 1\n",
    "        else:\n",
    "            n //= i\n",
    "            factors.append(i)\n",
    "    if n > 1:\n",
    "        factors.append(n)\n",
    "    return factors"
   ]
  },
  {
   "cell_type": "code",
   "execution_count": 3,
   "metadata": {},
   "outputs": [
    {
     "data": {
      "text/plain": [
       "[[3, 23], [2, 5, 5, 23], [2, 2, 3, 3, 5, 23]]"
      ]
     },
     "execution_count": 3,
     "metadata": {},
     "output_type": "execute_result"
    }
   ],
   "source": [
    "[prime_factors(69), prime_factors(1_150), prime_factors(4_140)]"
   ]
  },
  {
   "cell_type": "code",
   "execution_count": 4,
   "metadata": {},
   "outputs": [],
   "source": [
    "diamants = set(prime_factors(69))\n",
    "perles = set(prime_factors(1_150))\n",
    "pieces_or = set(prime_factors(4_140))"
   ]
  },
  {
   "cell_type": "code",
   "execution_count": 5,
   "metadata": {},
   "outputs": [
    {
     "data": {
      "text/plain": [
       "{23}"
      ]
     },
     "execution_count": 5,
     "metadata": {},
     "output_type": "execute_result"
    }
   ],
   "source": [
    "marins = diamants.intersection(perles.intersection(pieces_or))\n",
    "marins"
   ]
  },
  {
   "cell_type": "markdown",
   "metadata": {},
   "source": [
    "Un sablier est composé de :\n",
    "\n",
    "deux cylindres C1 et C2 de hauteur 4,2 cm et de diamètre 1,5 cm ;\n",
    "\n",
    "un cylindre C3 ;\n",
    "\n",
    "deux demi-sphères S1 et S2 de diamètre 1,5 cm.\n",
    "\n",
    "On rappelle le volume V d’un cylindre d’aire de base B et de hauteur ℎ :\n",
    "\n",
    "V = B × ℎ."
   ]
  },
  {
   "cell_type": "markdown",
   "metadata": {},
   "source": [
    "a) Au départ, le sable remplit le cylindre C2 aux deux tiers. Montrer que le volume du sable est environ 4,95 cm3."
   ]
  },
  {
   "cell_type": "code",
   "execution_count": 6,
   "metadata": {},
   "outputs": [
    {
     "name": "stdout",
     "output_type": "stream",
     "text": [
      "V = 4.95 cm³\n"
     ]
    }
   ],
   "source": [
    "from math import *\n",
    "h = 4.2\n",
    "d = 1.5\n",
    "V = 2 / 3 * pi * (d / 2)**2 * h\n",
    "print(f'V = {V:.2f} cm³')"
   ]
  },
  {
   "cell_type": "markdown",
   "metadata": {},
   "source": [
    "b) On retourne le sablier. En supposant que le débit d’écoulement du sable est constant et égal à 1,98 cm3/min, calculer le temps en minutes et secondes que va mettre le sable à s’écouler dans le cylindre inférieur."
   ]
  },
  {
   "cell_type": "code",
   "execution_count": 7,
   "metadata": {},
   "outputs": [
    {
     "name": "stdout",
     "output_type": "stream",
     "text": [
      "Temps écoulement = 2.56 min\n"
     ]
    }
   ],
   "source": [
    "debit = 1.93\n",
    "temps_min = V / debit\n",
    "print(f'Temps écoulement = {temps_min:.2f} min')"
   ]
  },
  {
   "cell_type": "code",
   "execution_count": 8,
   "metadata": {},
   "outputs": [
    {
     "data": {
      "text/plain": [
       "'0:02:33.824096'"
      ]
     },
     "execution_count": 8,
     "metadata": {},
     "output_type": "execute_result"
    }
   ],
   "source": [
    "import datetime\n",
    "str(datetime.timedelta(seconds = temps_min * 60))"
   ]
  },
  {
   "cell_type": "markdown",
   "metadata": {},
   "source": [
    "En réalité, le débit d’écoulement d’un même sablier n’est pas constant.\n",
    "\n",
    "Dans une usine où on fabrique des sabliers comme celui-ci, on prend un sablier au hasard et on teste plusieurs fois le temps d’écoulement dans ce sablier.\n",
    "\n",
    "Voici les différents temps récapitulés dans le tableau suivant :"
   ]
  },
  {
   "cell_type": "code",
   "execution_count": 9,
   "metadata": {},
   "outputs": [],
   "source": [
    "import pandas as pd\n",
    "\n",
    "d = {'Temps': ['2:22', '2:24', '2:26', '2:27', '2:28',\n",
    "               '2:29', '2:30', '2:31', '2:32', '2:33',\n",
    "               '2:34', '2:35', '2:38'],\n",
    "     'Nombre': [1, 1, 2, 6, 3,\n",
    "                7, 6, 3, 1, 2,\n",
    "                3, 2, 3]}\n",
    "df = pd.DataFrame(d)"
   ]
  },
  {
   "cell_type": "markdown",
   "metadata": {},
   "source": [
    "Convertir le temps en secondes"
   ]
  },
  {
   "cell_type": "code",
   "execution_count": 10,
   "metadata": {},
   "outputs": [
    {
     "data": {
      "text/html": [
       "<div>\n",
       "<style scoped>\n",
       "    .dataframe tbody tr th:only-of-type {\n",
       "        vertical-align: middle;\n",
       "    }\n",
       "\n",
       "    .dataframe tbody tr th {\n",
       "        vertical-align: top;\n",
       "    }\n",
       "\n",
       "    .dataframe thead th {\n",
       "        text-align: right;\n",
       "    }\n",
       "</style>\n",
       "<table border=\"1\" class=\"dataframe\">\n",
       "  <thead>\n",
       "    <tr style=\"text-align: right;\">\n",
       "      <th></th>\n",
       "      <th>Temps</th>\n",
       "      <th>Nombre</th>\n",
       "      <th>Temps [s]</th>\n",
       "    </tr>\n",
       "  </thead>\n",
       "  <tbody>\n",
       "    <tr>\n",
       "      <th>0</th>\n",
       "      <td>2:22</td>\n",
       "      <td>1</td>\n",
       "      <td>142.0</td>\n",
       "    </tr>\n",
       "    <tr>\n",
       "      <th>1</th>\n",
       "      <td>2:24</td>\n",
       "      <td>1</td>\n",
       "      <td>144.0</td>\n",
       "    </tr>\n",
       "    <tr>\n",
       "      <th>2</th>\n",
       "      <td>2:26</td>\n",
       "      <td>2</td>\n",
       "      <td>146.0</td>\n",
       "    </tr>\n",
       "    <tr>\n",
       "      <th>3</th>\n",
       "      <td>2:27</td>\n",
       "      <td>6</td>\n",
       "      <td>147.0</td>\n",
       "    </tr>\n",
       "    <tr>\n",
       "      <th>4</th>\n",
       "      <td>2:28</td>\n",
       "      <td>3</td>\n",
       "      <td>148.0</td>\n",
       "    </tr>\n",
       "    <tr>\n",
       "      <th>5</th>\n",
       "      <td>2:29</td>\n",
       "      <td>7</td>\n",
       "      <td>149.0</td>\n",
       "    </tr>\n",
       "    <tr>\n",
       "      <th>6</th>\n",
       "      <td>2:30</td>\n",
       "      <td>6</td>\n",
       "      <td>150.0</td>\n",
       "    </tr>\n",
       "    <tr>\n",
       "      <th>7</th>\n",
       "      <td>2:31</td>\n",
       "      <td>3</td>\n",
       "      <td>151.0</td>\n",
       "    </tr>\n",
       "    <tr>\n",
       "      <th>8</th>\n",
       "      <td>2:32</td>\n",
       "      <td>1</td>\n",
       "      <td>152.0</td>\n",
       "    </tr>\n",
       "    <tr>\n",
       "      <th>9</th>\n",
       "      <td>2:33</td>\n",
       "      <td>2</td>\n",
       "      <td>153.0</td>\n",
       "    </tr>\n",
       "    <tr>\n",
       "      <th>10</th>\n",
       "      <td>2:34</td>\n",
       "      <td>3</td>\n",
       "      <td>154.0</td>\n",
       "    </tr>\n",
       "    <tr>\n",
       "      <th>11</th>\n",
       "      <td>2:35</td>\n",
       "      <td>2</td>\n",
       "      <td>155.0</td>\n",
       "    </tr>\n",
       "    <tr>\n",
       "      <th>12</th>\n",
       "      <td>2:38</td>\n",
       "      <td>3</td>\n",
       "      <td>158.0</td>\n",
       "    </tr>\n",
       "  </tbody>\n",
       "</table>\n",
       "</div>"
      ],
      "text/plain": [
       "   Temps  Nombre  Temps [s]\n",
       "0   2:22       1      142.0\n",
       "1   2:24       1      144.0\n",
       "2   2:26       2      146.0\n",
       "3   2:27       6      147.0\n",
       "4   2:28       3      148.0\n",
       "5   2:29       7      149.0\n",
       "6   2:30       6      150.0\n",
       "7   2:31       3      151.0\n",
       "8   2:32       1      152.0\n",
       "9   2:33       2      153.0\n",
       "10  2:34       3      154.0\n",
       "11  2:35       2      155.0\n",
       "12  2:38       3      158.0"
      ]
     },
     "execution_count": 10,
     "metadata": {},
     "output_type": "execute_result"
    }
   ],
   "source": [
    "df['Temps [s]'] = pd.to_timedelta(\"00:\" + df['Temps']).dt.total_seconds()\n",
    "df"
   ]
  },
  {
   "cell_type": "markdown",
   "metadata": {},
   "source": [
    "a) Combien de tests ont été réalisés au total ?"
   ]
  },
  {
   "cell_type": "code",
   "execution_count": 11,
   "metadata": {},
   "outputs": [
    {
     "name": "stdout",
     "output_type": "stream",
     "text": [
      "No. de tests : 40\n"
     ]
    }
   ],
   "source": [
    "print('No. de tests :', df['Nombre'].sum())"
   ]
  },
  {
   "cell_type": "markdown",
   "metadata": {},
   "source": [
    "b) Un sablier est mis en vente s’il vérifie les trois conditions ci-dessous, sinon il est éliminé.\n",
    "\n",
    "L’étendue des temps est inférieure à 20 s.\n",
    "\n",
    "La médiane des temps est comprise entre 2 min 29 s et 2 min 31 s.\n",
    "\n",
    "La moyenne des temps est comprise entre 2 min 28 s et 2 min 32 s."
   ]
  },
  {
   "cell_type": "code",
   "execution_count": 12,
   "metadata": {},
   "outputs": [
    {
     "name": "stdout",
     "output_type": "stream",
     "text": [
      "Etendu : 16.0 s\n"
     ]
    }
   ],
   "source": [
    "print('Etendu :', df['Temps [s]'].max() - df['Temps [s]'].min(), 's')"
   ]
  },
  {
   "cell_type": "code",
   "execution_count": 13,
   "metadata": {},
   "outputs": [
    {
     "name": "stdout",
     "output_type": "stream",
     "text": [
      "Médiane : 150.0 s\n"
     ]
    }
   ],
   "source": [
    "print('Médiane :', df['Temps [s]'].median(), 's')"
   ]
  },
  {
   "cell_type": "code",
   "execution_count": 14,
   "metadata": {},
   "outputs": [
    {
     "name": "stdout",
     "output_type": "stream",
     "text": [
      "Médiane : 2:30 min\n"
     ]
    }
   ],
   "source": [
    "median = df['Temps [s]'].median()\n",
    "print(f'Médiane : {median // 60:.0f}:{median % 60:.0f} min')"
   ]
  },
  {
   "cell_type": "code",
   "execution_count": 15,
   "metadata": {},
   "outputs": [
    {
     "name": "stdout",
     "output_type": "stream",
     "text": [
      "Moyenne : 149.92307692307693 s\n"
     ]
    }
   ],
   "source": [
    "print('Moyenne :', df['Temps [s]'].mean(), 's')"
   ]
  },
  {
   "cell_type": "code",
   "execution_count": 16,
   "metadata": {},
   "outputs": [
    {
     "name": "stdout",
     "output_type": "stream",
     "text": [
      "Moyenne : 150 s\n"
     ]
    }
   ],
   "source": [
    "print(f'Moyenne : {df[\"Temps [s]\"].mean():.0f} s')"
   ]
  },
  {
   "cell_type": "code",
   "execution_count": null,
   "metadata": {},
   "outputs": [],
   "source": []
  }
 ],
 "metadata": {
  "kernelspec": {
   "display_name": "Python 3",
   "language": "python",
   "name": "python3"
  },
  "language_info": {
   "codemirror_mode": {
    "name": "ipython",
    "version": 3
   },
   "file_extension": ".py",
   "mimetype": "text/x-python",
   "name": "python",
   "nbconvert_exporter": "python",
   "pygments_lexer": "ipython3",
   "version": "3.8.8"
  }
 },
 "nbformat": 4,
 "nbformat_minor": 4
}
