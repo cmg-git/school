{
 "cells": [
  {
   "cell_type": "code",
   "execution_count": 1,
   "id": "8d12fbec-2adc-436c-87e0-822b890386ee",
   "metadata": {},
   "outputs": [],
   "source": [
    "import numpy as np\n",
    "import ipywidgets as widgets\n",
    "import matplotlib.pyplot as plt"
   ]
  },
  {
   "cell_type": "code",
   "execution_count": 4,
   "id": "5baa254b-7b15-4f80-bec4-d0d369cd1537",
   "metadata": {},
   "outputs": [],
   "source": [
    "def sine_wave(Frequency=1000):\n",
    "    duration = 1             #s\n",
    "    duration_display = 0.010 #s\n",
    "    framerate = 44100        # rate of sampling\n",
    "    \n",
    "    t = np.linspace(0, duration, framerate * duration)    # time values\n",
    "    data = np.sin(2 * np.pi * Frequency * t)\n",
    "    \n",
    "    fig, ax = plt.subplots()\n",
    "    ax.plot(t[t <= duration_display], data[t <= duration_display])\n",
    "    ax.grid(True, which='both')\n",
    "    ax.axhline(y=0, color='k')\n",
    "    ax.set(xlabel='time (s)',\n",
    "           ylabel='amplitude')\n",
    "    ax.set_title(f'Frequency = {Frequency} Hz')\n",
    "    plt.show()"
   ]
  },
  {
   "cell_type": "code",
   "execution_count": 5,
   "id": "ed139263-a1d3-45cb-889b-7f6376245524",
   "metadata": {},
   "outputs": [
    {
     "data": {
      "application/vnd.jupyter.widget-view+json": {
       "model_id": "eb28c6cfe57648cf86545177cc67f0db",
       "version_major": 2,
       "version_minor": 0
      },
      "text/plain": [
       "interactive(children=(IntSlider(value=1000, description='Frequency', max=5000, min=50, step=10), Output()), _d…"
      ]
     },
     "metadata": {},
     "output_type": "display_data"
    }
   ],
   "source": [
    "widgets.interact(sine_wave, Frequency=(50, 5_000, 10));"
   ]
  },
  {
   "cell_type": "markdown",
   "id": "4e9f256b-4e55-4f51-b28b-25561882c824",
   "metadata": {},
   "source": [
    "**References**\n",
    "1. [How to Create an Interactive Web Application using a Jupyter Notebook](https://www.youtube.com/watch?v=t8P6estGusQ)\n",
    "\n",
    "2. [-- \" --, blog](https://blog.finxter.com/how-to-create-an-interactive-web-application-using-jupyter-notebook/)\n",
    "\n",
    "3. [-- \" --, Github](https://github.com/nghweigeok/jupyter_webapp_demo)\n",
    "\n",
    "4. [Using Interact](https://ipywidgets.readthedocs.io/en/stable/examples/Using%20Interact.html)"
   ]
  },
  {
   "cell_type": "code",
   "execution_count": null,
   "id": "584acfcd-dd7e-42a8-bea7-7219e796a7d7",
   "metadata": {},
   "outputs": [],
   "source": []
  }
 ],
 "metadata": {
  "kernelspec": {
   "display_name": "Python 3 (ipykernel)",
   "language": "python",
   "name": "python3"
  },
  "language_info": {
   "codemirror_mode": {
    "name": "ipython",
    "version": 3
   },
   "file_extension": ".py",
   "mimetype": "text/x-python",
   "name": "python",
   "nbconvert_exporter": "python",
   "pygments_lexer": "ipython3",
   "version": "3.9.7"
  }
 },
 "nbformat": 4,
 "nbformat_minor": 5
}
