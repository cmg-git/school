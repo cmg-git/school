{
 "cells": [
  {
   "cell_type": "markdown",
   "metadata": {},
   "source": [
    "Math 4e Cahier des compétances\n",
    "\n",
    "page 27, parcours rouge"
   ]
  },
  {
   "cell_type": "markdown",
   "metadata": {},
   "source": [
    "**14.** La porte de l'immeuble de Sarah est sécurisée avec un digicode à 12 touches, 10 chifres (de 0 à 9) et deux lettres (A et B). Le code est composé de quatre chiffres plus deux lettres. Combien y a-t-il de possibilités de code ?"
   ]
  },
  {
   "cell_type": "markdown",
   "metadata": {},
   "source": [
    "*Solution*\n",
    "\n",
    "On considère que le code est formé de 4 chiffres suivis par deux lettres, par example : 1435BA.\n",
    "\n",
    "Pour comprendre le problème, on considère un pavé de 3 chiffre."
   ]
  },
  {
   "cell_type": "code",
   "execution_count": 1,
   "metadata": {},
   "outputs": [],
   "source": [
    "%reset -f"
   ]
  },
  {
   "cell_type": "markdown",
   "metadata": {},
   "source": [
    "Combinaisons avec deux lettres, *A* et *B* :"
   ]
  },
  {
   "cell_type": "code",
   "execution_count": 2,
   "metadata": {},
   "outputs": [
    {
     "name": "stdout",
     "output_type": "stream",
     "text": [
      "\n",
      "\n",
      "AA , AB , \n",
      "\n",
      "BA , BB , \n",
      "Nombre des codes. Simulé : 4 . Calculé :  4\n"
     ]
    }
   ],
   "source": [
    "lettres = ['A', 'B']\n",
    "total = 0\n",
    "for lettre1 in lettres:\n",
    "    print('\\n')\n",
    "    for lettre2 in lettres:\n",
    "        print(lettre1 + lettre2, ', ', end='')\n",
    "        total +=1\n",
    "print('\\nNombre des codes. Simulé :', total, '. Calculé : ', 2**2)"
   ]
  },
  {
   "cell_type": "code",
   "execution_count": 3,
   "metadata": {},
   "outputs": [
    {
     "name": "stdout",
     "output_type": "stream",
     "text": [
      "\n",
      "\n",
      "11 , 12 , 13 , \n",
      "\n",
      "21 , 22 , 23 , \n",
      "\n",
      "31 , 32 , 33 , \n",
      "Nombre des codes. Simulé : 9 . Calculé :  9\n"
     ]
    }
   ],
   "source": [
    "nombre = ['1', '2',  '3']\n",
    "total = 0\n",
    "for n1 in nombre:\n",
    "    print('\\n')\n",
    "    for n2 in nombre:\n",
    "        print(n1 + n2, ', ', end='')\n",
    "        total +=1\n",
    "print('\\nNombre des codes. Simulé :', total, '. Calculé : ', 3**2)"
   ]
  },
  {
   "cell_type": "markdown",
   "metadata": {},
   "source": [
    "Pour faire des codes de 2 chiffres et deux lettres :"
   ]
  },
  {
   "cell_type": "code",
   "execution_count": 4,
   "metadata": {},
   "outputs": [
    {
     "name": "stdout",
     "output_type": "stream",
     "text": [
      "11\n",
      "12\n",
      "13\n",
      "21\n",
      "22\n",
      "23\n",
      "31\n",
      "32\n",
      "33\n",
      "Nombre des codes. Simulé :  9 . Calculé :  9\n"
     ]
    }
   ],
   "source": [
    "pave = ['1', '2',  '3']\n",
    "total = 0\n",
    "for n1 in pave:\n",
    "    for n2 in pave:\n",
    "        print(n1 + n2)\n",
    "        total +=1\n",
    "print('Nombre des codes. Simulé : ', total, '. Calculé : ', 3**2)"
   ]
  },
  {
   "cell_type": "markdown",
   "metadata": {},
   "source": [
    "Les deux lettres à la fin donne 4 combinaisons:"
   ]
  },
  {
   "cell_type": "code",
   "execution_count": 5,
   "metadata": {},
   "outputs": [
    {
     "name": "stdout",
     "output_type": "stream",
     "text": [
      "11\n",
      "11A\n",
      "11B\n",
      "12\n",
      "12A\n",
      "12B\n",
      "13\n",
      "13A\n",
      "13B\n",
      "21\n",
      "21A\n",
      "21B\n",
      "22\n",
      "22A\n",
      "22B\n",
      "23\n",
      "23A\n",
      "23B\n",
      "31\n",
      "31A\n",
      "31B\n",
      "32\n",
      "32A\n",
      "32B\n",
      "33\n",
      "33A\n",
      "33B\n",
      "Nombre des codes. Simulé :  18 . Calculé :  18\n"
     ]
    }
   ],
   "source": [
    "pave = ['1', '2',  '3']\n",
    "lettres = ['A', 'B']\n",
    "total = 0\n",
    "for n1 in pave:\n",
    "    for n2 in pave:\n",
    "        print(n1 + n2)\n",
    "        code = n1 + n2\n",
    "        for lettre1 in lettres:\n",
    "            codeA = code + lettre1\n",
    "            print(codeA)\n",
    "            total +=1\n",
    "print('Nombre des codes. Simulé : ', total, '. Calculé : ', 3**2 * 2**1)"
   ]
  },
  {
   "cell_type": "code",
   "execution_count": 6,
   "metadata": {},
   "outputs": [
    {
     "name": "stdout",
     "output_type": "stream",
     "text": [
      "11\n",
      "11AA\n",
      "11AB\n",
      "11BA\n",
      "11BB\n",
      "12\n",
      "12AA\n",
      "12AB\n",
      "12BA\n",
      "12BB\n",
      "13\n",
      "13AA\n",
      "13AB\n",
      "13BA\n",
      "13BB\n",
      "21\n",
      "21AA\n",
      "21AB\n",
      "21BA\n",
      "21BB\n",
      "22\n",
      "22AA\n",
      "22AB\n",
      "22BA\n",
      "22BB\n",
      "23\n",
      "23AA\n",
      "23AB\n",
      "23BA\n",
      "23BB\n",
      "31\n",
      "31AA\n",
      "31AB\n",
      "31BA\n",
      "31BB\n",
      "32\n",
      "32AA\n",
      "32AB\n",
      "32BA\n",
      "32BB\n",
      "33\n",
      "33AA\n",
      "33AB\n",
      "33BA\n",
      "33BB\n",
      "Nombre des codes. Simulé :  36 . Calculé :  36\n"
     ]
    }
   ],
   "source": [
    "pave = ['1', '2',  '3']\n",
    "lettres = ['A', 'B']\n",
    "total = 0\n",
    "for n1 in pave:\n",
    "    for n2 in pave:\n",
    "        print(n1 + n2)\n",
    "        code = n1 + n2\n",
    "        for lettre1 in lettres:\n",
    "            for lettre2 in lettres:\n",
    "                codeA = code + lettre1 + lettre2\n",
    "                print(codeA)\n",
    "                total +=1\n",
    "print('Nombre des codes. Simulé : ', total, '. Calculé : ', 3**2 * 2**2 )"
   ]
  },
  {
   "cell_type": "code",
   "execution_count": 7,
   "metadata": {},
   "outputs": [
    {
     "name": "stdout",
     "output_type": "stream",
     "text": [
      "Nombre des codes. Simulé :  40000 . Calculé :  40000\n"
     ]
    }
   ],
   "source": [
    "pave_c = ['0', '1', '2', '3', '4', '5', '6', '7', '8', '9']\n",
    "total = 0\n",
    "for n1 in pave_c:\n",
    "    for n2 in pave_c:\n",
    "        for n3 in pave_c:\n",
    "            for n4 in pave_c:\n",
    "                code = n1 + n2 + n3 + n4\n",
    "                total +=1\n",
    "print('Nombre des codes. Simulé : ', 4 * total, '. Calculé : ', 10**4 * 2**2)"
   ]
  },
  {
   "cell_type": "markdown",
   "metadata": {},
   "source": [
    "**16 Pour les experts**\n",
    "\n",
    "Dans l'exercise 14, si le code était composé de 6 caractères aléatoires differents parmi les 12, combine y aura-t-il des posibilités de code ? "
   ]
  },
  {
   "cell_type": "code",
   "execution_count": 8,
   "metadata": {},
   "outputs": [
    {
     "name": "stdout",
     "output_type": "stream",
     "text": [
      "2985984\n"
     ]
    }
   ],
   "source": [
    "no_caracteres_dans_code = 6\n",
    "no_total_caracteres = 12\n",
    "no_codes_possibles = no_total_caracteres**no_caracteres_dans_code\n",
    "print(no_codes_possibles)"
   ]
  },
  {
   "cell_type": "code",
   "execution_count": null,
   "metadata": {},
   "outputs": [],
   "source": []
  }
 ],
 "metadata": {
  "kernelspec": {
   "display_name": "Python 3",
   "language": "python",
   "name": "python3"
  },
  "language_info": {
   "codemirror_mode": {
    "name": "ipython",
    "version": 3
   },
   "file_extension": ".py",
   "mimetype": "text/x-python",
   "name": "python",
   "nbconvert_exporter": "python",
   "pygments_lexer": "ipython3",
   "version": "3.8.5"
  }
 },
 "nbformat": 4,
 "nbformat_minor": 4
}
