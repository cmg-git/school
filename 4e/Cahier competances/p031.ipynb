{
 "cells": [
  {
   "cell_type": "markdown",
   "metadata": {},
   "source": [
    "Math 4e Cahier des compétances\n",
    "\n",
    "page 31, parcours rouge"
   ]
  },
  {
   "cell_type": "code",
   "execution_count": 1,
   "metadata": {},
   "outputs": [],
   "source": [
    "%reset -f"
   ]
  },
  {
   "cell_type": "markdown",
   "metadata": {},
   "source": [
    "Parcours rouge\n",
    "\n",
    "**47.** Les rayons :"
   ]
  },
  {
   "cell_type": "code",
   "execution_count": 2,
   "metadata": {},
   "outputs": [],
   "source": [
    "R_uranium = 175e-12       # m\n",
    "R_balle_tennis = 3.4      # cm\n",
    "R_Terre = 6_371           # km"
   ]
  },
  {
   "cell_type": "markdown",
   "metadata": {},
   "source": [
    "1. Ecrire ces trois rayon en notation scientifique en utilisant le mètre comme unité :"
   ]
  },
  {
   "cell_type": "code",
   "execution_count": 3,
   "metadata": {},
   "outputs": [],
   "source": [
    "R_uranium = 175e-12       # m\n",
    "R_balle_tennis = 3.4e-2   # m\n",
    "R_Terre = 6_371e3         # m"
   ]
  },
  {
   "cell_type": "markdown",
   "metadata": {},
   "source": [
    "2. Le professeur de sciences physiques dit à ces élèves qu'*en terme de taille, l'atome d'uranium est à la balle de tennis ce que la balle de tennis est à la Terre*. Expliquer cette affirmation."
   ]
  },
  {
   "cell_type": "code",
   "execution_count": 4,
   "metadata": {},
   "outputs": [
    {
     "name": "stdout",
     "output_type": "stream",
     "text": [
      "R_balle_tennis / R_uranium =  194285714.2857143\n",
      "R_Terre / R_balle_tennis =  187382352.94117644\n"
     ]
    }
   ],
   "source": [
    "balle_atom = R_balle_tennis / R_uranium\n",
    "Terre_balle = R_Terre / R_balle_tennis\n",
    "\n",
    "print('R_balle_tennis / R_uranium = ', balle_atom)\n",
    "print('R_Terre / R_balle_tennis = ', Terre_balle)"
   ]
  },
  {
   "cell_type": "code",
   "execution_count": 5,
   "metadata": {},
   "outputs": [
    {
     "name": "stdout",
     "output_type": "stream",
     "text": [
      "Comparaison : 1.0368410431194925\n"
     ]
    }
   ],
   "source": [
    "comparaison = balle_atom / Terre_balle\n",
    "print('Comparaison :', comparaison)"
   ]
  },
  {
   "cell_type": "code",
   "execution_count": 6,
   "metadata": {},
   "outputs": [
    {
     "name": "stdout",
     "output_type": "stream",
     "text": [
      "Comparaison : 1.037\n"
     ]
    }
   ],
   "source": [
    "print(f'Comparaison : {comparaison:.3f}')"
   ]
  },
  {
   "cell_type": "code",
   "execution_count": 7,
   "metadata": {},
   "outputs": [
    {
     "name": "stdout",
     "output_type": "stream",
     "text": [
      "La difference entre le rapport balle/atom et Terre/balle est de 3.68 %.\n"
     ]
    }
   ],
   "source": [
    "diff_proc = 100 * (comparaison - 1)\n",
    "print(f'La difference entre le rapport balle/atom et Terre/balle est de {diff_proc:.2f} %.')"
   ]
  },
  {
   "cell_type": "markdown",
   "metadata": {},
   "source": [
    "**48.** Dans l'exercise 47, combien d'atomes d'uranium faut-il mettre bout à bout pour faire le tour de la Terre ?"
   ]
  },
  {
   "cell_type": "code",
   "execution_count": 8,
   "metadata": {},
   "outputs": [
    {
     "name": "stdout",
     "output_type": "stream",
     "text": [
      "Il faut 1.143e+17 atoms d'uranium pour faire le tour de la Terre.\n"
     ]
    }
   ],
   "source": [
    "tour_Terre = 2 * 3.14 * R_Terre\n",
    "nombre_atoms_uranium = tour_Terre / (2 * R_uranium)\n",
    "print(f\"Il faut {nombre_atoms_uranium:.3e} atoms d'uranium pour faire le tour de la Terre.\")"
   ]
  },
  {
   "cell_type": "code",
   "execution_count": null,
   "metadata": {},
   "outputs": [],
   "source": []
  }
 ],
 "metadata": {
  "kernelspec": {
   "display_name": "Python 3",
   "language": "python",
   "name": "python3"
  },
  "language_info": {
   "codemirror_mode": {
    "name": "ipython",
    "version": 3
   },
   "file_extension": ".py",
   "mimetype": "text/x-python",
   "name": "python",
   "nbconvert_exporter": "python",
   "pygments_lexer": "ipython3",
   "version": "3.8.5"
  }
 },
 "nbformat": 4,
 "nbformat_minor": 4
}
