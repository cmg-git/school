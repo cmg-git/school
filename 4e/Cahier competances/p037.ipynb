{
 "cells": [
  {
   "cell_type": "markdown",
   "metadata": {},
   "source": [
    "Math 4e Cahier des compétances\n",
    "\n",
    "**11. Pour les experts**\n",
    "\n",
    "Voici le début d'une suite :"
   ]
  },
  {
   "cell_type": "code",
   "execution_count": 1,
   "metadata": {},
   "outputs": [],
   "source": [
    "import numpy as np\n",
    "s = np.array([1, 2, 5, 10, 17, 26, 37, 50])"
   ]
  },
  {
   "cell_type": "markdown",
   "metadata": {},
   "source": [
    "Trouve l'expression qui permet de décrire cette suite.\n",
    "\n",
    "Faire la difference entre les éléménts consécutives :"
   ]
  },
  {
   "cell_type": "code",
   "execution_count": 2,
   "metadata": {},
   "outputs": [
    {
     "data": {
      "text/plain": [
       "array([ 1,  3,  5,  7,  9, 11, 13])"
      ]
     },
     "execution_count": 2,
     "metadata": {},
     "output_type": "execute_result"
    }
   ],
   "source": [
    "np.ediff1d(s)"
   ]
  },
  {
   "cell_type": "markdown",
   "metadata": {},
   "source": [
    "L'expression qui décrit cette suite : \n",
    "\n",
    "$$x_0 = 1;$$\n",
    "\n",
    "$$x_{n + 1} = x_n + 2  n + 1, n = 0 ... n_{max}$$\n",
    "\n",
    "On fait cette expression 'pas à pas' :"
   ]
  },
  {
   "cell_type": "code",
   "execution_count": 3,
   "metadata": {},
   "outputs": [
    {
     "data": {
      "text/plain": [
       "array([[ 1.,  2.,  5., 10., 17., 26., 37., 50., nan, nan]])"
      ]
     },
     "execution_count": 3,
     "metadata": {},
     "output_type": "execute_result"
    }
   ],
   "source": [
    "import numpy as np\n",
    "n_max = 10                # nombre max d'éléments \n",
    "\n",
    "x = np.empty((n_max, 1))  # liste vide\n",
    "x[:] = np.nan             # liste avec 'nan'\n",
    "x[0] = 1\n",
    "x[1] = x[0] + 2 * 0 + 1\n",
    "x[2] = x[1] + 2 * 1 + 1\n",
    "x[3] = x[2] + 2 * 2 + 1\n",
    "x[4] = x[3] + 2 * 3 + 1\n",
    "x[5] = x[4] + 2 * 4 + 1\n",
    "x[6] = x[5] + 2 * 5 + 1\n",
    "x[7] = x[6] + 2 * 6 + 1\n",
    "x.T"
   ]
  },
  {
   "cell_type": "markdown",
   "metadata": {},
   "source": [
    "On fait cette expression en utilisant $n$ et la formule : $x_0 = 1$, $x_{n + 1} = x_n + 2  n + 1$"
   ]
  },
  {
   "cell_type": "code",
   "execution_count": 4,
   "metadata": {},
   "outputs": [
    {
     "data": {
      "text/plain": [
       "array([[ 1.,  2.,  5., 10., 17., 26., 37., 50., 65., 82.]])"
      ]
     },
     "execution_count": 4,
     "metadata": {},
     "output_type": "execute_result"
    }
   ],
   "source": [
    "x = np.empty((n_max, 1))\n",
    "x[:] = np.nan\n",
    "x[0] = 1\n",
    "n = 0; x[n + 1] = x[n] + 2 * n + 1\n",
    "n = 1; x[n + 1] = x[n] + 2 * n + 1\n",
    "n = 2; x[n + 1] = x[n] + 2 * n + 1\n",
    "n = 3; x[n + 1] = x[n] + 2 * n + 1\n",
    "n = 4; x[n + 1] = x[n] + 2 * n + 1\n",
    "n = 5; x[n + 1] = x[n] + 2 * n + 1\n",
    "n = 6; x[n + 1] = x[n] + 2 * n + 1\n",
    "n = 7; x[n + 1] = x[n] + 2 * n + 1\n",
    "n = 8; x[n + 1] = x[n] + 2 * n + 1\n",
    "x.T"
   ]
  },
  {
   "cell_type": "markdown",
   "metadata": {},
   "source": [
    "On fait cette expression en utilisant `for` et la formule : $x_0 = 1$, $x_{n + 1} = x_n + 2  n + 1$"
   ]
  },
  {
   "cell_type": "code",
   "execution_count": 8,
   "metadata": {},
   "outputs": [
    {
     "data": {
      "text/plain": [
       "array([[ 1.,  2.,  5., 10., 17., 26., 37., 50., 65., 82.]])"
      ]
     },
     "execution_count": 8,
     "metadata": {},
     "output_type": "execute_result"
    }
   ],
   "source": [
    "x = np.empty((n_max, 1))\n",
    "x[:] = np.nan\n",
    "x[0] = 1\n",
    "for n in np.arange(0, n_max-1):\n",
    "    x[n + 1] = x[n] + 2 * n + 1\n",
    "x.T"
   ]
  },
  {
   "cell_type": "code",
   "execution_count": null,
   "metadata": {},
   "outputs": [],
   "source": []
  }
 ],
 "metadata": {
  "kernelspec": {
   "display_name": "Python 3",
   "language": "python",
   "name": "python3"
  },
  "language_info": {
   "codemirror_mode": {
    "name": "ipython",
    "version": 3
   },
   "file_extension": ".py",
   "mimetype": "text/x-python",
   "name": "python",
   "nbconvert_exporter": "python",
   "pygments_lexer": "ipython3",
   "version": "3.8.5"
  }
 },
 "nbformat": 4,
 "nbformat_minor": 4
}
