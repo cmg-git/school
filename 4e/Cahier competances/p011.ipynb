{
 "cells": [
  {
   "cell_type": "markdown",
   "metadata": {},
   "source": [
    "Math 4e Cahier des compétances\n",
    "\n",
    "page 11"
   ]
  },
  {
   "cell_type": "markdown",
   "metadata": {},
   "source": [
    "**30 Pour les experts**\n",
    "\n",
    "Quels sont tous les nombres à 1, 2 ou 3 chiffres qui sont à la fois le carré d'un nombre et aussi le cube d'un nombre ?"
   ]
  },
  {
   "cell_type": "markdown",
   "metadata": {},
   "source": [
    "*Solution 1*\n",
    "\n",
    "-----------------\n",
    "\n",
    "Soit $a, b, m, n$ des nombres naturels, $a, b, m, n \\in \\mathbb{N}$.\n",
    "\n",
    "$n$ doit être un carré parfait : $n = a^2$\n",
    "\n",
    "$n$ doit être un cube parfait : $n = b^3$\n",
    "\n",
    "Alors : $n = a^2 = b^3$, donc $a = b^{3/2}$ et $b = a^{2/3}$.\n",
    "\n",
    "Comme  $a = b^{3/2}$ et $a$ doit être entier, alors $b$ doit être un carré parfait, $b = m^2$.\n",
    "\n",
    "Comme $b = m^2 = a^{2/3}$, alors $(m^2)^3 = (a^{2/3})^3$, c. à d. $a^2 = (m^2)^3$. Mais $a^2= n$. \n",
    "\n",
    "Donc $n = (m^2)^3 = m^6$ où $m$ est un nombre naturel, $m \\in \\mathbb{N}$.\n",
    "\n"
   ]
  },
  {
   "cell_type": "code",
   "execution_count": 29,
   "metadata": {},
   "outputs": [
    {
     "name": "stdout",
     "output_type": "stream",
     "text": [
      "0 0.0 0.0\n",
      "1 1.0 1.0\n",
      "64 8.0 4.0\n",
      "729 27.0 9.0\n"
     ]
    }
   ],
   "source": [
    "%reset -f\n",
    "import numpy as np\n",
    "\n",
    "m = 0; n = (m**2)**3; print(n, np.sqrt(n), np.cbrt(n))\n",
    "m = 1; n = (m**2)**3; print(n, np.sqrt(n), np.cbrt(n))\n",
    "m = 2; n = (m**2)**3; print(n, np.sqrt(n), np.cbrt(n))\n",
    "m = 3; n = (m**2)**3; print(n, np.sqrt(n), np.cbrt(n))"
   ]
  },
  {
   "cell_type": "code",
   "execution_count": 68,
   "metadata": {},
   "outputs": [
    {
     "name": "stdout",
     "output_type": "stream",
     "text": [
      " m    n    n½   n⅓\n",
      " 0    0    0    0\n",
      " 1    1    1    1\n",
      " 2   64    8    4\n",
      " 3  729   27    9\n"
     ]
    }
   ],
   "source": [
    "print(' m    n    n½   n⅓')\n",
    "m = 0; n = (m**2)**3; print(f'{m:2d} {n:4.0f} {np.sqrt(n):4.0f} {np.cbrt(n):4.0f}')\n",
    "m = 1; n = (m**2)**3; print(f'{m:2d} {n:4.0f} {np.sqrt(n):4.0f} {np.cbrt(n):4.0f}')\n",
    "m = 2; n = (m**2)**3; print(f'{m:2d} {n:4.0f} {np.sqrt(n):4.0f} {np.cbrt(n):4.0f}')\n",
    "m = 3; n = (m**2)**3; print(f'{m:2d} {n:4.0f} {np.sqrt(n):4.0f} {np.cbrt(n):4.0f}')"
   ]
  },
  {
   "cell_type": "markdown",
   "metadata": {},
   "source": [
    "Trouver les carrés et cubes parfaits de $0$ à $n_{max}$ en utilisant la boucle `while`."
   ]
  },
  {
   "cell_type": "code",
   "execution_count": 65,
   "metadata": {},
   "outputs": [
    {
     "name": "stdout",
     "output_type": "stream",
     "text": [
      " m   n   n½  n⅓\n",
      " 0   0   0   0\n",
      " 1   1   1   1\n",
      " 2  64   8   4\n",
      " 3 729  27   9\n"
     ]
    }
   ],
   "source": [
    "n_max = 1e3\n",
    "m = 0\n",
    "n = (m**2)**3\n",
    "print(' m   n   n½  n⅓')\n",
    "while n < n_max:\n",
    "    print(f'{m:2d} {n:3.0f} {np.sqrt(n):3.0f} {np.cbrt(n):3.0f}')\n",
    "    m += 1\n",
    "    n = (m**2)**3;"
   ]
  },
  {
   "cell_type": "markdown",
   "metadata": {},
   "source": [
    "Le même solution mais avec un boucle `repeat .. until`."
   ]
  },
  {
   "cell_type": "code",
   "execution_count": 66,
   "metadata": {},
   "outputs": [
    {
     "name": "stdout",
     "output_type": "stream",
     "text": [
      " m   n   n½  n⅓\n",
      " 0   0   0   0\n",
      " 1   1   1   1\n",
      " 2  64   8   4\n",
      " 3 729  27   9\n"
     ]
    }
   ],
   "source": [
    "n_max = 1e3\n",
    "m = 0\n",
    "print(' m   n   n½  n⅓')\n",
    "while True:\n",
    "    n = (m**2)**3\n",
    "    if n > n_max: break\n",
    "    print(f'{m:2d} {n:3.0f} {np.sqrt(n):3.0f} {np.cbrt(n):3.0f}')\n",
    "    m += 1"
   ]
  },
  {
   "cell_type": "markdown",
   "metadata": {},
   "source": [
    "*Solution 2*\n",
    "\n",
    "--------\n",
    "Je trouve les nombres les plus grands qui ont le carré et le cube plus petit que 1000 : "
   ]
  },
  {
   "cell_type": "code",
   "execution_count": 5,
   "metadata": {},
   "outputs": [
    {
     "name": "stdout",
     "output_type": "stream",
     "text": [
      "32 et 10\n"
     ]
    }
   ],
   "source": [
    "import numpy as np\n",
    "print(round(np.sqrt(1000)), 'et', round(np.cbrt(1000)))"
   ]
  },
  {
   "cell_type": "markdown",
   "metadata": {},
   "source": [
    "Je construit deux ensambles, un des carrés et un des cubes."
   ]
  },
  {
   "cell_type": "code",
   "execution_count": 6,
   "metadata": {},
   "outputs": [],
   "source": [
    "squares = set(n**2 for n in np.arange(0, 32))\n",
    "cubes = set(n**3 for n in np.arange(0, 10))"
   ]
  },
  {
   "cell_type": "markdown",
   "metadata": {},
   "source": [
    "Je vois quelles sont les nombres communs dans les deux ensambles des carrés et des cubes : "
   ]
  },
  {
   "cell_type": "code",
   "execution_count": 7,
   "metadata": {},
   "outputs": [],
   "source": [
    "common = set.intersection(squares, cubes)"
   ]
  },
  {
   "cell_type": "markdown",
   "metadata": {},
   "source": [
    "J'affiche les résultat :"
   ]
  },
  {
   "cell_type": "code",
   "execution_count": 8,
   "metadata": {},
   "outputs": [
    {
     "name": "stdout",
     "output_type": "stream",
     "text": [
      "[  0   1  64 729]\n",
      "[ 0.  1.  8. 27.]\n",
      "[0. 1. 4. 9.]\n",
      "['   0', '   1', '  64', ' 729']\n",
      "['   0', '   1', '   8', '  27']\n",
      "['   0', '   1', '   4', '   9']\n"
     ]
    }
   ],
   "source": [
    "a_common = np.array(list(common))\n",
    "print(a_common)\n",
    "print(np.sqrt(a_common))\n",
    "print(np.cbrt(a_common))\n",
    "\n",
    "print(['{:4.0f}'.format(i) for i in a_common])\n",
    "print(['{:4.0f}'.format(i) for i in np.sqrt(a_common)])\n",
    "print(['{:4.0f}'.format(i) for i in np.cbrt(a_common)])"
   ]
  },
  {
   "cell_type": "markdown",
   "metadata": {},
   "source": [
    "*Solution 3*\n",
    "\n",
    "-------\n",
    "\n",
    "J'essaye tous les racines carrées et cubes.\n",
    "\n",
    "Prend un nombre.\n",
    "\n",
    "Vérifie si la racine carré est un entier.\n",
    "\n",
    "- Si oui, vérifie si la racine cubique est entier;\n",
    "    - Si oui, affiche le résultat."
   ]
  },
  {
   "cell_type": "code",
   "execution_count": 9,
   "metadata": {},
   "outputs": [
    {
     "name": "stdout",
     "output_type": "stream",
     "text": [
      "     0,      0,      0\n",
      "     1,      1,      1\n",
      "    64,      8,      4\n",
      "   729,     27,      9\n"
     ]
    }
   ],
   "source": [
    "for n in np.arange(0, 1e3):\n",
    "    sqrt_n = np.sqrt(n)\n",
    "    if sqrt_n.is_integer():\n",
    "        cbrt_n = np.cbrt(n)\n",
    "        if cbrt_n.is_integer():\n",
    "            print(f'{n:6.0f}, {sqrt_n:6.0f}, {cbrt_n:6.0f}')"
   ]
  },
  {
   "cell_type": "markdown",
   "metadata": {},
   "source": [
    "Solution en faisant racine carrée des cubes :"
   ]
  },
  {
   "cell_type": "code",
   "execution_count": 10,
   "metadata": {},
   "outputs": [
    {
     "data": {
      "text/plain": [
       "array([[  0.        ,   0.        ],\n",
       "       [  1.        ,   1.        ],\n",
       "       [  8.        ,   2.82842712],\n",
       "       [ 27.        ,   5.19615242],\n",
       "       [ 64.        ,   8.        ],\n",
       "       [125.        ,  11.18033989],\n",
       "       [216.        ,  14.69693846],\n",
       "       [343.        ,  18.52025918],\n",
       "       [512.        ,  22.627417  ],\n",
       "       [729.        ,  27.        ]])"
      ]
     },
     "execution_count": 10,
     "metadata": {},
     "output_type": "execute_result"
    }
   ],
   "source": [
    "cubes = np.array(list(n**3 for n in np.arange(0, 10)))\n",
    "np.array([cubes, np.sqrt(cubes)]).T"
   ]
  }
 ],
 "metadata": {
  "kernelspec": {
   "display_name": "Python 3",
   "language": "python",
   "name": "python3"
  },
  "language_info": {
   "codemirror_mode": {
    "name": "ipython",
    "version": 3
   },
   "file_extension": ".py",
   "mimetype": "text/x-python",
   "name": "python",
   "nbconvert_exporter": "python",
   "pygments_lexer": "ipython3",
   "version": "3.8.5"
  }
 },
 "nbformat": 4,
 "nbformat_minor": 4
}
