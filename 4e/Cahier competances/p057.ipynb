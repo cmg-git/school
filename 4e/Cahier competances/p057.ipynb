{
 "cells": [
  {
   "cell_type": "markdown",
   "metadata": {},
   "source": [
    "Math 4e Cahier des compétances\n",
    "\n",
    "page 57, parcours rouge"
   ]
  },
  {
   "cell_type": "markdown",
   "metadata": {},
   "source": [
    "**12 Pour les experts**\n",
    "\n",
    "Peux-tu trouver cinq couples de nombres $x$ et $y$ vérifiant l'égalité : $$\\frac{x}{5} = \\frac{y}{2}$$"
   ]
  },
  {
   "cell_type": "markdown",
   "metadata": {},
   "source": [
    "Si $$\\frac{x}{5} = \\frac{y}{2} = n$$\n",
    "\n",
    "et $n, x, y \\in \\mathbb{N}$, alors\n",
    "$x = 5n$ et $y = 2n$.\n",
    "\n",
    "Il faut que $x$ soit un multiple de 5, par ex. $x = 5, 10, 15, ...$. Alors, $y = 2x/5$\n",
    "\n",
    "Ou, que $y$ soit un multiple de 2, par ex. $y = 2, 4, 6, ...$. Alors, $x = 5y/2$"
   ]
  },
  {
   "cell_type": "code",
   "execution_count": 23,
   "metadata": {},
   "outputs": [
    {
     "name": "stdout",
     "output_type": "stream",
     "text": [
      "  x   y  x/5  y/2\n",
      "  5   2   1   1\n",
      " 10   4   2   2\n",
      " 15   6   3   3\n"
     ]
    }
   ],
   "source": [
    "xl = [5, 10, 15]\n",
    "\n",
    "print('  x   y  x/5  y/2')\n",
    "for x in xl:\n",
    "    y = int(2 * x / 5)\n",
    "    print(f'{x:3d} {y:3d} {int(x / 5):3d} {int(y / 2):3d}')"
   ]
  },
  {
   "cell_type": "code",
   "execution_count": 18,
   "metadata": {},
   "outputs": [
    {
     "name": "stdout",
     "output_type": "stream",
     "text": [
      "  x   y  2x  5y\n",
      "  5   2  10  10\n",
      " 10   4  20  20\n",
      " 15   6  30  30\n"
     ]
    }
   ],
   "source": [
    "yl = [2, 4, 6]\n",
    "\n",
    "print('  x   y  2x  5y')\n",
    "for y in yl:\n",
    "    x = int(5 * y / 2)\n",
    "    print(f'{x:3d} {y:3d} {2 * x:3d} {5 * y:3d}')"
   ]
  },
  {
   "cell_type": "markdown",
   "metadata": {},
   "source": [
    "Si $n, x, y \\in \\mathbb{R}$, alors $y = 2/5x$. "
   ]
  },
  {
   "cell_type": "code",
   "execution_count": 26,
   "metadata": {},
   "outputs": [
    {
     "name": "stdout",
     "output_type": "stream",
     "text": [
      "  x   y  x/5  y/2\n",
      "  0.1   0.0 0.0 0.0\n",
      "  0.5   0.0 0.0 0.0\n",
      "  1.0   0.0 0.0 0.0\n"
     ]
    }
   ],
   "source": [
    "xl = [0.1, 0.5, 1]\n",
    "print('  x   y  x/5  y/2')\n",
    "for x in xl:\n",
    "    y = int(2 * x / 5)\n",
    "    print(f'{x:5.1f} {y:5.1f} {int(x / 5):3.1f} {int(y / 2):3.1f}')"
   ]
  },
  {
   "cell_type": "code",
   "execution_count": null,
   "metadata": {},
   "outputs": [],
   "source": []
  }
 ],
 "metadata": {
  "kernelspec": {
   "display_name": "Python 3",
   "language": "python",
   "name": "python3"
  },
  "language_info": {
   "codemirror_mode": {
    "name": "ipython",
    "version": 3
   },
   "file_extension": ".py",
   "mimetype": "text/x-python",
   "name": "python",
   "nbconvert_exporter": "python",
   "pygments_lexer": "ipython3",
   "version": "3.8.5"
  }
 },
 "nbformat": 4,
 "nbformat_minor": 4
}
