{
 "cells": [
  {
   "cell_type": "markdown",
   "id": "094d0c4e-857c-46b5-bbda-4ef832c128ae",
   "metadata": {},
   "source": [
    "# p. 54 Nombres premiers"
   ]
  },
  {
   "cell_type": "markdown",
   "id": "2a89a08b-ed65-489f-b3dc-f10b2ecd60fb",
   "metadata": {},
   "source": [
    "**ex. 32.** Parmis les nombres entiers naturels suivants, chercher ceux qui sont des nombres premiers. [à voir](https://geekflare.com/prime-number-in-python/)"
   ]
  },
  {
   "cell_type": "code",
   "execution_count": 1,
   "id": "b64c5f12-385a-4c22-b0ab-abd2c0a89b35",
   "metadata": {},
   "outputs": [],
   "source": [
    "def is_prime(n):\n",
    "  for i in range(2,n):\n",
    "    if (n % i) == 0:\n",
    "      return(False)\n",
    "  return(True)"
   ]
  },
  {
   "cell_type": "code",
   "execution_count": 2,
   "id": "6d93106e-8e85-439c-9028-cc94155b34e6",
   "metadata": {},
   "outputs": [
    {
     "data": {
      "text/plain": [
       "True"
      ]
     },
     "execution_count": 2,
     "metadata": {},
     "output_type": "execute_result"
    }
   ],
   "source": [
    "# a)\n",
    "is_prime(157)"
   ]
  },
  {
   "cell_type": "code",
   "execution_count": 3,
   "id": "63abe4a6-8681-4226-9372-52eb0ccfa138",
   "metadata": {},
   "outputs": [
    {
     "data": {
      "text/plain": [
       "False"
      ]
     },
     "execution_count": 3,
     "metadata": {},
     "output_type": "execute_result"
    }
   ],
   "source": [
    "# b)\n",
    "is_prime(231)"
   ]
  },
  {
   "cell_type": "code",
   "execution_count": 4,
   "id": "a519a1a4-7859-44e7-8400-c46b21e59aa4",
   "metadata": {},
   "outputs": [
    {
     "data": {
      "text/plain": [
       "True"
      ]
     },
     "execution_count": 4,
     "metadata": {},
     "output_type": "execute_result"
    }
   ],
   "source": [
    "# c)\n",
    "is_prime(311)"
   ]
  },
  {
   "cell_type": "code",
   "execution_count": 5,
   "id": "1860a973-67b4-4d60-a773-6bee749cbf05",
   "metadata": {},
   "outputs": [
    {
     "data": {
      "text/plain": [
       "False"
      ]
     },
     "execution_count": 5,
     "metadata": {},
     "output_type": "execute_result"
    }
   ],
   "source": [
    "# d)\n",
    "is_prime(468)"
   ]
  },
  {
   "cell_type": "markdown",
   "id": "e8b5c467-cad1-4b2a-97b0-73b580336989",
   "metadata": {},
   "source": [
    "**ex. 34** Décomposé chacun des nombres suivants en produits de facteurs premiers: "
   ]
  },
  {
   "cell_type": "code",
   "execution_count": 6,
   "id": "d72627aa-d2d1-4579-93ab-826bcd290a7d",
   "metadata": {},
   "outputs": [],
   "source": [
    "def factors(n):\n",
    "    i = 2\n",
    "    while n > 1:\n",
    "        p = 0     # power\n",
    "        while n % i == 0:\n",
    "            p = p + 1\n",
    "            n = n / i\n",
    "\n",
    "        if p != 0:\n",
    "            print(f\"{i}^{p}\")\n",
    "\n",
    "        i = i + 1"
   ]
  },
  {
   "cell_type": "code",
   "execution_count": 7,
   "id": "a1410a45-0c00-45e1-812b-be1e06bb1df0",
   "metadata": {},
   "outputs": [
    {
     "name": "stdout",
     "output_type": "stream",
     "text": [
      "5^1\n",
      "43^1\n"
     ]
    }
   ],
   "source": [
    "# a)\n",
    "factors(215)"
   ]
  },
  {
   "cell_type": "code",
   "execution_count": 8,
   "id": "34990fb3-c852-4e07-a341-155d13b1daaa",
   "metadata": {},
   "outputs": [
    {
     "name": "stdout",
     "output_type": "stream",
     "text": [
      "3^1\n",
      "13^2\n"
     ]
    }
   ],
   "source": [
    "# b)\n",
    "factors(507)"
   ]
  },
  {
   "cell_type": "markdown",
   "id": "b35fa8cc-fefd-4ce7-9d6b-c98cc089aa87",
   "metadata": {},
   "source": [
    "**ex. 34** Simplifier au maximum chaque fraction."
   ]
  },
  {
   "cell_type": "code",
   "execution_count": 9,
   "id": "74421576-246b-4607-9128-93fda9c7df31",
   "metadata": {},
   "outputs": [
    {
     "data": {
      "text/plain": [
       "Fraction(6, 7)"
      ]
     },
     "execution_count": 9,
     "metadata": {},
     "output_type": "execute_result"
    }
   ],
   "source": [
    "from fractions import Fraction\n",
    "# a)\n",
    "Fraction(48, 56)"
   ]
  },
  {
   "cell_type": "code",
   "execution_count": 10,
   "id": "c574c3da-f39f-46b1-b479-32f683914d45",
   "metadata": {},
   "outputs": [
    {
     "data": {
      "text/plain": [
       "Fraction(8, 9)"
      ]
     },
     "execution_count": 10,
     "metadata": {},
     "output_type": "execute_result"
    }
   ],
   "source": [
    "# b)\n",
    "Fraction(56, 63)"
   ]
  },
  {
   "cell_type": "markdown",
   "id": "a6e7ef36-e37e-4b2d-9d08-1ac880db41db",
   "metadata": {},
   "source": [
    "**ex. 38** Simplifier :"
   ]
  },
  {
   "cell_type": "code",
   "execution_count": 11,
   "id": "b65d0339-282d-4fe8-bbe7-1c9b88c59f94",
   "metadata": {
    "tags": []
   },
   "outputs": [
    {
     "data": {
      "text/plain": [
       "Fraction(7, 1)"
      ]
     },
     "execution_count": 11,
     "metadata": {},
     "output_type": "execute_result"
    }
   ],
   "source": [
    "Fraction(2261, 323)"
   ]
  },
  {
   "cell_type": "markdown",
   "id": "3a0195ba-3ba8-4094-ae1b-ce988c7286b4",
   "metadata": {},
   "source": [
    "Efectuer:"
   ]
  },
  {
   "cell_type": "code",
   "execution_count": 12,
   "id": "e1347c3e-23d3-4706-a4e2-84e28278d96a",
   "metadata": {},
   "outputs": [
    {
     "data": {
      "text/plain": [
       "Fraction(50, 7)"
      ]
     },
     "execution_count": 12,
     "metadata": {},
     "output_type": "execute_result"
    }
   ],
   "source": [
    "Fraction(2261, 323) + Fraction(7, 49)"
   ]
  },
  {
   "cell_type": "code",
   "execution_count": null,
   "id": "9d5ef4fc-361e-4851-8d20-87215d704234",
   "metadata": {},
   "outputs": [],
   "source": []
  }
 ],
 "metadata": {
  "kernelspec": {
   "display_name": "Python 3 (ipykernel)",
   "language": "python",
   "name": "python3"
  },
  "language_info": {
   "codemirror_mode": {
    "name": "ipython",
    "version": 3
   },
   "file_extension": ".py",
   "mimetype": "text/x-python",
   "name": "python",
   "nbconvert_exporter": "python",
   "pygments_lexer": "ipython3",
   "version": "3.9.7"
  }
 },
 "nbformat": 4,
 "nbformat_minor": 5
}
