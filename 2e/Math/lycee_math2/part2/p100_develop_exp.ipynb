{
 "cells": [
  {
   "cell_type": "markdown",
   "id": "17581522-f721-4533-9416-6aeefc651d18",
   "metadata": {},
   "source": [
    "# p. 100 Développer expression"
   ]
  },
  {
   "cell_type": "code",
   "execution_count": 1,
   "id": "9242af83-6d72-4e77-ac56-805c37453c34",
   "metadata": {},
   "outputs": [],
   "source": [
    "import sympy as sym\n",
    "from sympy.abc import x"
   ]
  },
  {
   "cell_type": "markdown",
   "id": "c0277369-c55a-4423-bc72-3ff2a07f83c2",
   "metadata": {
    "tags": []
   },
   "source": [
    "31. Dévélopper, reduire et ordonner les expressions:\n",
    "\n",
    "a) $3x(x + 5)$"
   ]
  },
  {
   "cell_type": "code",
   "execution_count": 2,
   "id": "d2be2c5e-e4f5-4d5f-9cf9-e238b9665198",
   "metadata": {},
   "outputs": [
    {
     "data": {
      "text/latex": [
       "$\\displaystyle 3 x^{2} + 15 x$"
      ],
      "text/plain": [
       "3*x**2 + 15*x"
      ]
     },
     "execution_count": 2,
     "metadata": {},
     "output_type": "execute_result"
    }
   ],
   "source": [
    "# ex. 31a\n",
    "exp = 3 * x * (x + 5)\n",
    "sym.expand(exp)"
   ]
  },
  {
   "cell_type": "markdown",
   "id": "aea388a6-8122-4689-b7e5-8ad6c92d3272",
   "metadata": {
    "tags": []
   },
   "source": [
    "33 d) $(x + 1)^2 + (x - 2)^2$"
   ]
  },
  {
   "cell_type": "code",
   "execution_count": 3,
   "id": "d114c7c6-2c06-4938-bf8d-4d5f2277ac61",
   "metadata": {},
   "outputs": [
    {
     "data": {
      "text/latex": [
       "$\\displaystyle 2 x^{2} - 2 x + 5$"
      ],
      "text/plain": [
       "2*x**2 - 2*x + 5"
      ]
     },
     "execution_count": 3,
     "metadata": {},
     "output_type": "execute_result"
    }
   ],
   "source": [
    "# ex. 33d\n",
    "exp = (x + 1)**2 + (x - 2)**2\n",
    "sym.expand(exp)"
   ]
  },
  {
   "cell_type": "code",
   "execution_count": null,
   "id": "8f8a2f1f-5bea-4748-908a-24f5c8e26a8f",
   "metadata": {},
   "outputs": [],
   "source": []
  }
 ],
 "metadata": {
  "kernelspec": {
   "display_name": "Python 3 (ipykernel)",
   "language": "python",
   "name": "python3"
  },
  "language_info": {
   "codemirror_mode": {
    "name": "ipython",
    "version": 3
   },
   "file_extension": ".py",
   "mimetype": "text/x-python",
   "name": "python",
   "nbconvert_exporter": "python",
   "pygments_lexer": "ipython3",
   "version": "3.9.7"
  }
 },
 "nbformat": 4,
 "nbformat_minor": 5
}
