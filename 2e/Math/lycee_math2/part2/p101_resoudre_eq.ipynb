{
 "cells": [
  {
   "cell_type": "markdown",
   "id": "3ae95dfd-4887-4284-9007-ffb157184bce",
   "metadata": {},
   "source": [
    "# p. 101  Resoudre des équations"
   ]
  },
  {
   "cell_type": "code",
   "execution_count": 1,
   "id": "6d2d86a7-7f01-42cc-8be4-c42da845795b",
   "metadata": {},
   "outputs": [],
   "source": [
    "import sympy as sym\n",
    "from sympy.abc import x"
   ]
  },
  {
   "cell_type": "markdown",
   "id": "f4ab79ce-6504-4978-90d4-0133c3351259",
   "metadata": {
    "tags": []
   },
   "source": [
    "50. Resoudre en ℝ les equations:\n",
    "$$\\frac{x - 2}{x + 9} = 0$$"
   ]
  },
  {
   "cell_type": "code",
   "execution_count": 2,
   "id": "a3362e4e-c86e-4845-ba97-7d2b219c90cc",
   "metadata": {},
   "outputs": [
    {
     "data": {
      "text/latex": [
       "$\\displaystyle \\left\\{2\\right\\}$"
      ],
      "text/plain": [
       "{2}"
      ]
     },
     "execution_count": 2,
     "metadata": {},
     "output_type": "execute_result"
    }
   ],
   "source": [
    "exp = (x - 2) / (x + 9)\n",
    "sym.solveset(exp)"
   ]
  },
  {
   "cell_type": "markdown",
   "id": "9e4705ea-c008-4015-8e62-76e81bb4ca41",
   "metadata": {},
   "source": [
    "51. Resoudre en ℝ les equations:\n",
    "\n",
    "$$\\frac{2x - 1}{x + 6} = 1$$"
   ]
  },
  {
   "cell_type": "code",
   "execution_count": 3,
   "id": "7193ab82-8f4e-471a-a92c-51ccec3b98aa",
   "metadata": {},
   "outputs": [
    {
     "data": {
      "text/latex": [
       "$\\displaystyle \\left\\{7\\right\\}$"
      ],
      "text/plain": [
       "{7}"
      ]
     },
     "execution_count": 3,
     "metadata": {},
     "output_type": "execute_result"
    }
   ],
   "source": [
    "exp = (2 * x - 1) / (x + 6) - 1\n",
    "sym.solveset(exp)"
   ]
  },
  {
   "cell_type": "code",
   "execution_count": null,
   "id": "1ebdbe24-2a2c-467b-9834-da2a1cdbbc06",
   "metadata": {},
   "outputs": [],
   "source": []
  }
 ],
 "metadata": {
  "kernelspec": {
   "display_name": "Python 3 (ipykernel)",
   "language": "python",
   "name": "python3"
  },
  "language_info": {
   "codemirror_mode": {
    "name": "ipython",
    "version": 3
   },
   "file_extension": ".py",
   "mimetype": "text/x-python",
   "name": "python",
   "nbconvert_exporter": "python",
   "pygments_lexer": "ipython3",
   "version": "3.9.7"
  }
 },
 "nbformat": 4,
 "nbformat_minor": 5
}
