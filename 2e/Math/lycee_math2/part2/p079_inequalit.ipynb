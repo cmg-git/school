{
 "cells": [
  {
   "cell_type": "markdown",
   "id": "7913057a-0d08-419c-9a6d-e50740f19a30",
   "metadata": {},
   "source": [
    "# p. 79 Inégalités"
   ]
  },
  {
   "cell_type": "code",
   "execution_count": 1,
   "id": "63661e53-fb80-4208-8a07-3d52365c6062",
   "metadata": {},
   "outputs": [],
   "source": [
    "import sympy as sym\n",
    "from sympy.abc import x"
   ]
  },
  {
   "cell_type": "markdown",
   "id": "67f3c653-ddcc-4a34-87af-87b9c46ca1ae",
   "metadata": {
    "tags": []
   },
   "source": [
    "ex. 51 Resoudre l'négalité :\n",
    "\n",
    "a) $4x + 5 \\leq -x + 100$"
   ]
  },
  {
   "cell_type": "code",
   "execution_count": 4,
   "id": "dc7f767f-992d-4deb-84ba-914c1858c50c",
   "metadata": {},
   "outputs": [
    {
     "data": {
      "text/latex": [
       "$\\displaystyle 19 \\leq x \\wedge x < \\infty$"
      ],
      "text/plain": [
       "(19 <= x) & (x < oo)"
      ]
     },
     "execution_count": 4,
     "metadata": {},
     "output_type": "execute_result"
    }
   ],
   "source": [
    "sym.solve_univariate_inequality(4 * x + 5 >= -x + 100, x)"
   ]
  },
  {
   "cell_type": "markdown",
   "id": "693be83b-2eaa-41bd-8b19-79ca8e4d8e5c",
   "metadata": {},
   "source": [
    "ex. 57. Comparer les expressions $5 + 2x$ et"
   ]
  }
 ],
 "metadata": {
  "kernelspec": {
   "display_name": "Python 3 (ipykernel)",
   "language": "python",
   "name": "python3"
  },
  "language_info": {
   "codemirror_mode": {
    "name": "ipython",
    "version": 3
   },
   "file_extension": ".py",
   "mimetype": "text/x-python",
   "name": "python",
   "nbconvert_exporter": "python",
   "pygments_lexer": "ipython3",
   "version": "3.9.7"
  }
 },
 "nbformat": 4,
 "nbformat_minor": 5
}
