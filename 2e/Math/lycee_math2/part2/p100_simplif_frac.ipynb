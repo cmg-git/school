{
 "cells": [
  {
   "cell_type": "markdown",
   "id": "bd9d74f3-fa5b-4e60-9e27-b8431bb32859",
   "metadata": {
    "tags": []
   },
   "source": [
    "# p100 Simplification franctions"
   ]
  },
  {
   "cell_type": "code",
   "execution_count": 1,
   "id": "1d1ecbc0-adcf-406b-ad84-e30e4b3a987f",
   "metadata": {},
   "outputs": [],
   "source": [
    "import sympy as sym\n",
    "from sympy.abc import t, x"
   ]
  },
  {
   "cell_type": "markdown",
   "id": "96c73e50-4297-4f2d-9f33-383182f39531",
   "metadata": {},
   "source": [
    "50. Simplifier :\n",
    "$$\\frac{5t + 25}{5}$$"
   ]
  },
  {
   "cell_type": "code",
   "execution_count": 2,
   "id": "a9dd7021-b742-4cbc-8ea0-24bbe652883e",
   "metadata": {},
   "outputs": [
    {
     "data": {
      "text/latex": [
       "$\\displaystyle t + 5$"
      ],
      "text/plain": [
       "t + 5"
      ]
     },
     "execution_count": 2,
     "metadata": {},
     "output_type": "execute_result"
    }
   ],
   "source": [
    "# ex. 40\n",
    "exp = (5 * t + 25) / 5\n",
    "sym.simplify(exp)"
   ]
  },
  {
   "cell_type": "code",
   "execution_count": 4,
   "id": "7b6692ce-2249-46e8-a7eb-9af4afb51919",
   "metadata": {},
   "outputs": [
    {
     "data": {
      "text/latex": [
       "$\\displaystyle \\frac{5 x + 43}{x + 8}$"
      ],
      "text/plain": [
       "(5*x + 43)/(x + 8)"
      ]
     },
     "execution_count": 4,
     "metadata": {},
     "output_type": "execute_result"
    }
   ],
   "source": [
    "# ex. 41\n",
    "exp = 3 / (x + 8) + 5\n",
    "sym.simplify(exp)"
   ]
  },
  {
   "cell_type": "code",
   "execution_count": null,
   "id": "b7accc69-5378-424f-bc4f-695afa0161ed",
   "metadata": {},
   "outputs": [],
   "source": []
  }
 ],
 "metadata": {
  "kernelspec": {
   "display_name": "Python 3 (ipykernel)",
   "language": "python",
   "name": "python3"
  },
  "language_info": {
   "codemirror_mode": {
    "name": "ipython",
    "version": 3
   },
   "file_extension": ".py",
   "mimetype": "text/x-python",
   "name": "python",
   "nbconvert_exporter": "python",
   "pygments_lexer": "ipython3",
   "version": "3.9.7"
  }
 },
 "nbformat": 4,
 "nbformat_minor": 5
}
