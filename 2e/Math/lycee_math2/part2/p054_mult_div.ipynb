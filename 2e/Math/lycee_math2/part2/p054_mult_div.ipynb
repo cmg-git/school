{
 "cells": [
  {
   "cell_type": "markdown",
   "id": "4f5c8dac-28a2-4993-be85-c6a2dcf0b274",
   "metadata": {},
   "source": [
    "**p. 054 Multiples et diviseurs**"
   ]
  },
  {
   "cell_type": "markdown",
   "id": "e0c759e2-fae3-47a2-9e42-a8dd5fb5380c",
   "metadata": {},
   "source": [
    "**ex. 29** Touver tous les nombres de trois chiffres divisible à la fois par 3 et par 5 et dont le chiffre des centaines est 7."
   ]
  },
  {
   "cell_type": "code",
   "execution_count": 1,
   "id": "f2b93b9c-d718-46ca-ac5b-2c0bd3167341",
   "metadata": {},
   "outputs": [
    {
     "name": "stdout",
     "output_type": "stream",
     "text": [
      "705\n",
      "720\n",
      "735\n",
      "750\n",
      "765\n",
      "780\n",
      "795\n"
     ]
    }
   ],
   "source": [
    "for n in range(700, 800):  # pour n de 700 à 799\n",
    "    if n % 15 == 0:        # if n est divisible par 15\n",
    "        print(n)"
   ]
  },
  {
   "cell_type": "markdown",
   "id": "c378ba68-6639-4716-bc21-33a581f3c590",
   "metadata": {},
   "source": [
    "**ex. 30** Ecrire la liste de tous les diviseurs de :\n",
    "32"
   ]
  },
  {
   "cell_type": "code",
   "execution_count": 2,
   "id": "3b019fa1-d566-4cce-89a4-7a31a03787ba",
   "metadata": {},
   "outputs": [
    {
     "name": "stdout",
     "output_type": "stream",
     "text": [
      "1\n",
      "2\n",
      "4\n",
      "8\n",
      "16\n"
     ]
    }
   ],
   "source": [
    "for n in range(1, 32):\n",
    "    if 32 % n == 0:\n",
    "        print(n)"
   ]
  },
  {
   "cell_type": "code",
   "execution_count": 3,
   "id": "1d8c03e7-1dcb-48e7-90c4-6e8eb4e90c87",
   "metadata": {},
   "outputs": [
    {
     "name": "stdout",
     "output_type": "stream",
     "text": [
      "[1, 2, 4, 8, 16]\n"
     ]
    }
   ],
   "source": [
    "n = 32\n",
    "print([k for k in range(1, n) if n % k == 0])"
   ]
  },
  {
   "cell_type": "code",
   "execution_count": 4,
   "id": "0f4a3794-3327-4bcd-ab4c-e1dbea92852e",
   "metadata": {},
   "outputs": [],
   "source": [
    "def diviseurs(n):\n",
    "    return([k for k in range(1, n) if n % k == 0])"
   ]
  },
  {
   "cell_type": "code",
   "execution_count": 5,
   "id": "a13bc09c-2226-4e88-87ad-6df9e2ff4585",
   "metadata": {},
   "outputs": [
    {
     "data": {
      "text/plain": [
       "[1]"
      ]
     },
     "execution_count": 5,
     "metadata": {},
     "output_type": "execute_result"
    }
   ],
   "source": [
    "# 30 b)\n",
    "diviseurs(67)"
   ]
  },
  {
   "cell_type": "code",
   "execution_count": 6,
   "id": "dcd62daa-f125-40f4-868e-86900569f19f",
   "metadata": {},
   "outputs": [
    {
     "data": {
      "text/plain": [
       "[1, 3, 9, 27]"
      ]
     },
     "execution_count": 6,
     "metadata": {},
     "output_type": "execute_result"
    }
   ],
   "source": [
    "# 30 c)\n",
    "diviseurs(81)"
   ]
  },
  {
   "cell_type": "code",
   "execution_count": 7,
   "id": "a82a1115-bf53-4c1c-bfe6-b4bfbe83c965",
   "metadata": {},
   "outputs": [
    {
     "data": {
      "text/plain": [
       "[1, 2, 3, 4, 6, 8, 9, 12, 16, 18, 24, 36, 48, 72]"
      ]
     },
     "execution_count": 7,
     "metadata": {},
     "output_type": "execute_result"
    }
   ],
   "source": [
    "#30 d)# 30 b)\n",
    "diviseurs(144)"
   ]
  }
 ],
 "metadata": {
  "kernelspec": {
   "display_name": "Python 3 (ipykernel)",
   "language": "python",
   "name": "python3"
  },
  "language_info": {
   "codemirror_mode": {
    "name": "ipython",
    "version": 3
   },
   "file_extension": ".py",
   "mimetype": "text/x-python",
   "name": "python",
   "nbconvert_exporter": "python",
   "pygments_lexer": "ipython3",
   "version": "3.9.7"
  }
 },
 "nbformat": 4,
 "nbformat_minor": 5
}
