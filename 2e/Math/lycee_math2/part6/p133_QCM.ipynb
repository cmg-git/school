{
 "cells": [
  {
   "cell_type": "markdown",
   "id": "6516751e-998e-43d3-a026-602fd73edb33",
   "metadata": {},
   "source": [
    "QCM Pour les questions 116 à 123 les moints A(3; -2), B(-2; -1), C(2; 6), D(-1; 4)."
   ]
  },
  {
   "cell_type": "code",
   "execution_count": 3,
   "id": "b20b4216-11f1-4475-a218-f35fb04b9eb6",
   "metadata": {},
   "outputs": [
    {
     "data": {
      "text/plain": [
       "(<Figure size 432x288 with 1 Axes>, <AxesSubplot:>)"
      ]
     },
     "execution_count": 3,
     "metadata": {},
     "output_type": "execute_result"
    },
    {
     "data": {
      "image/png": "[encoded data removed]",
      "text/plain": [
       "<Figure size 432x288 with 1 Axes>"
      ]
     },
     "metadata": {
      "needs_background": "light"
     },
     "output_type": "display_data"
    }
   ],
   "source": [
    "import matplotlib.pyplot as plt\n",
    "import numpy as np\n",
    "\n",
    "x = [3, -2, 2, -1]\n",
    "y = [-2, -1, 6, 4]\n",
    "points = [\"A\", \"B\", \"C\", \"D\"]\n",
    "\n",
    "def plot_points():\n",
    "    fig, ax = plt.subplots()\n",
    "    ax.plot(x, y, \"o\")\n",
    "    ax.axhline(y=0)\n",
    "    ax.axvline(x=0)\n",
    "    ax.set_aspect('equal')\n",
    "    ax.grid()\n",
    "\n",
    "    for i, txt in enumerate(points):\n",
    "        ax.annotate(txt, (x[i] + 0.1, y[i] + 0.1))\n",
    "    return fig, ax\n",
    "\n",
    "plot_points()"
   ]
  },
  {
   "cell_type": "markdown",
   "id": "0a3ec27c-b2ad-495c-928e-7f2301389722",
   "metadata": {},
   "source": [
    "Le milieu du segmant [AB]"
   ]
  },
  {
   "cell_type": "code",
   "execution_count": 4,
   "id": "ab6f11fd-77ea-43f6-bfeb-110a7eead7db",
   "metadata": {},
   "outputs": [
    {
     "data": {
      "text/plain": [
       "[<matplotlib.lines.Line2D at 0x7f9d98309520>]"
      ]
     },
     "execution_count": 4,
     "metadata": {},
     "output_type": "execute_result"
    },
    {
     "data": {
      "image/png": "[encoded data removed]",
      "text/plain": [
       "<Figure size 432x288 with 1 Axes>"
      ]
     },
     "metadata": {
      "needs_background": "light"
     },
     "output_type": "display_data"
    }
   ],
   "source": [
    "fig, ax = plot_points()\n",
    "xM = np.mean(x[0:2])\n",
    "yM = np.mean(y[0:2])\n",
    "ax.plot(xM, yM, \"or\")"
   ]
  },
  {
   "cell_type": "code",
   "execution_count": null,
   "id": "02a7da71-bb33-4c3e-9aa6-a2383d75b823",
   "metadata": {},
   "outputs": [],
   "source": []
  }
 ],
 "metadata": {
  "kernelspec": {
   "display_name": "Python 3 (ipykernel)",
   "language": "python",
   "name": "python3"
  },
  "language_info": {
   "codemirror_mode": {
    "name": "ipython",
    "version": 3
   },
   "file_extension": ".py",
   "mimetype": "text/x-python",
   "name": "python",
   "nbconvert_exporter": "python",
   "pygments_lexer": "ipython3",
   "version": "3.9.7"
  }
 },
 "nbformat": 4,
 "nbformat_minor": 5
}
