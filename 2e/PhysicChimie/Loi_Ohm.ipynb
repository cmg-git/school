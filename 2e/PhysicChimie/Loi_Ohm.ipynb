{
 "cells": [
  {
   "cell_type": "markdown",
   "metadata": {},
   "source": [
    "# Loi d'Ohm"
   ]
  },
  {
   "cell_type": "code",
   "execution_count": 1,
   "metadata": {},
   "outputs": [],
   "source": [
    "import numpy as np\n",
    "import matplotlib.pyplot as plt\n",
    "from sklearn.linear_model import LinearRegression"
   ]
  },
  {
   "cell_type": "markdown",
   "metadata": {},
   "source": [
    "Données"
   ]
  },
  {
   "cell_type": "code",
   "execution_count": 2,
   "metadata": {},
   "outputs": [
    {
     "name": "stdout",
     "output_type": "stream",
     "text": [
      "R = 63.79 Ω\n"
     ]
    }
   ],
   "source": [
    "U = np.array([[0], [1], [2], [4.5], [6], [8]])\n",
    "I = np.array([[0], [15], [29], [66], [88], [117]])*1e-3\n",
    "I = np.array([[0], [17], [25], [60], [110], [117]])*1e-3\n",
    "A, b = I, U\n",
    "\n",
    "R = np.linalg.inv(A.T @ A) @ A.T @ b\n",
    "print(f'R = {float(R):.2f} Ω')"
   ]
  },
  {
   "cell_type": "code",
   "execution_count": 3,
   "metadata": {},
   "outputs": [
    {
     "name": "stdout",
     "output_type": "stream",
     "text": [
      "[[58.82352941]\n",
      " [80.        ]\n",
      " [75.        ]\n",
      " [54.54545455]\n",
      " [68.37606838]]\n"
     ]
    }
   ],
   "source": [
    "R_exp = U[1:] / I[1:]\n",
    "print(R_exp)"
   ]
  },
  {
   "cell_type": "code",
   "execution_count": 4,
   "metadata": {},
   "outputs": [],
   "source": [
    "U_pred = R * I"
   ]
  },
  {
   "cell_type": "code",
   "execution_count": 5,
   "metadata": {},
   "outputs": [
    {
     "data": {
      "image/png": "[encoded data removed]",
      "text/plain": [
       "<Figure size 432x288 with 1 Axes>"
      ]
     },
     "metadata": {
      "needs_background": "light"
     },
     "output_type": "display_data"
    }
   ],
   "source": [
    "fig, ax = plt.subplots()\n",
    "ax.scatter(x=I, y=U, marker='o', color='r', edgecolor='b')\n",
    "ax.plot(I, U_pred, linestyle='-', color='b')\n",
    "ax.set_xlabel('Current, A')\n",
    "ax.set_ylabel('Tension, V')\n",
    "ax.grid()"
   ]
  },
  {
   "cell_type": "code",
   "execution_count": null,
   "metadata": {},
   "outputs": [],
   "source": []
  }
 ],
 "metadata": {
  "kernelspec": {
   "display_name": "Python 3",
   "language": "python",
   "name": "python3"
  },
  "language_info": {
   "codemirror_mode": {
    "name": "ipython",
    "version": 3
   },
   "file_extension": ".py",
   "mimetype": "text/x-python",
   "name": "python",
   "nbconvert_exporter": "python",
   "pygments_lexer": "ipython3",
   "version": "3.8.5"
  }
 },
 "nbformat": 4,
 "nbformat_minor": 4
}
